{
 "cells": [
  {
   "cell_type": "code",
   "execution_count": 8,
   "metadata": {
    "collapsed": true
   },
   "outputs": [],
   "source": [
    "\"\"\"\n",
    "Math 590\n",
    "Project 2\n",
    "Fall 2018\n",
    "\n",
    "Partner 1: Walker Harrison\n",
    "Partner 2: Lisa Lebovici\n",
    "Date: November 16, 2018\n",
    "\"\"\"\n",
    "\n",
    "# Import math.\n",
    "import math"
   ]
  },
  {
   "cell_type": "code",
   "execution_count": 9,
   "metadata": {
    "collapsed": true
   },
   "outputs": [],
   "source": [
    "\"\"\"\n",
    "Stack Class\n",
    "\"\"\"\n",
    "class Stack:\n",
    "\n",
    "    \"\"\"\n",
    "    Class attributes:\n",
    "    stack    # The array for the stack.\n",
    "    top      # The index of the top of the stack.\n",
    "    numElems # The number of elements in the stack.\n",
    "    \"\"\"\n",
    "\n",
    "    \"\"\"\n",
    "    __init__ function to initialize the Stack.\n",
    "    Note: intially the size of the stack defaults to 100.\n",
    "    Note: the stack is initally filled with None values.\n",
    "    Note: since nothing is on the stack, top is -1.\n",
    "    \"\"\"\n",
    "    def __init__(self, size=100):\n",
    "        self.stack = [None for x in range(0,size)]\n",
    "        self.top = -1\n",
    "        self.numElems = 0\n",
    "        return\n",
    "\n",
    "    \"\"\"\n",
    "    __repr__ function to print the stack.\n",
    "    \"\"\"\n",
    "    def __repr__(self):\n",
    "        print(self.stack)\n",
    "        print('Top: %d' % self.top)\n",
    "        return ('numElems: %d' % self.numElems)\n",
    "\n",
    "    \"\"\"\n",
    "    isFull function to check if the stack is full.\n",
    "    \"\"\"\n",
    "    def isFull(self):\n",
    "        if self.numElems == len(self.stack):\n",
    "            return True\n",
    "        else:\n",
    "            return False\n",
    "\n",
    "    \"\"\"\n",
    "    isEmpty function to check if the stack is empty.\n",
    "    \"\"\"\n",
    "    def isEmpty(self):\n",
    "        if self.numElems == 0:\n",
    "            return True\n",
    "        else:\n",
    "            return False\n",
    "\n",
    "    \"\"\"\n",
    "    resize function to resize the stack by doubling its size.\n",
    "    \"\"\"\n",
    "    def resize(self):\n",
    "        self.stack = self.stack + [None for x in self.stack]\n",
    "        return\n",
    "\n",
    "    \"\"\"\n",
    "    push function to push a value onto the stack.\n",
    "    \"\"\"\n",
    "    def push(self, val):\n",
    "        ##### IMPLEMENT! #####\n",
    "        if self.isFull():\n",
    "            self.resize()\n",
    "        \n",
    "        self.top += 1\n",
    "        self.numElems += 1\n",
    "        self.stack[self.top] = val\n",
    "\n",
    "        return\n",
    "\n",
    "    \"\"\"\n",
    "    pop function to pop the value off the top of the stack.\n",
    "    \"\"\"\n",
    "    def pop(self):\n",
    "        ##### IMPLEMENT! #####\n",
    "        if not self.isEmpty():\n",
    "            val = self.stack[self.top]\n",
    "            self.stack[self.top] = None\n",
    "            self.top -= 1\n",
    "            self.numElems -= 1\n",
    "\n",
    "            return val\n",
    "\n",
    "        return None"
   ]
  },
  {
   "cell_type": "code",
   "execution_count": 73,
   "metadata": {
    "collapsed": true
   },
   "outputs": [],
   "source": [
    "\"\"\"\n",
    "Queue Class\n",
    "\"\"\"\n",
    "class Queue:\n",
    "\n",
    "    \"\"\"\n",
    "    Class attributes:\n",
    "    queue    # The array for the queue.\n",
    "    front    # The index of the front of the queue.\n",
    "    rear     # The index ONE PAST the rear of the queue.\n",
    "    numElems # The number of elements in the queue.\n",
    "    \"\"\"\n",
    "\n",
    "    \"\"\"\n",
    "    __init__ function to initialize the Queue.\n",
    "    Note: intially the size of the queue defaults to 100.\n",
    "    Note: the queue is initally filled with None values.\n",
    "    \"\"\"\n",
    "    def __init__(self, size=100):\n",
    "        self.queue = [None for x in range(0,size)]\n",
    "        self.front = 0\n",
    "        self.rear = -1\n",
    "        self.numElems = 0\n",
    "        return\n",
    "\n",
    "    \"\"\"\n",
    "    __repr__ function to print the stack.\n",
    "    \"\"\"\n",
    "    def __repr__(self):\n",
    "        print(self.queue)\n",
    "        print('Front: %d' % self.front)\n",
    "        print('Rear: %d' % self.rear)\n",
    "        return ('numElems: %d' % self.numElems)\n",
    "\n",
    "    \"\"\"\n",
    "    isFull function to check if the queue is full.\n",
    "    \"\"\"\n",
    "    def isFull(self):\n",
    "        if self.numElems == len(self.queue):\n",
    "            return True\n",
    "        else:\n",
    "            return False\n",
    "\n",
    "    \"\"\"\n",
    "    isEmpty function to check if the queue is empty.\n",
    "    \"\"\"\n",
    "    def isEmpty(self):\n",
    "        if self.numElems == 0:\n",
    "            return True\n",
    "        else:\n",
    "            return False\n",
    "\n",
    "    \"\"\"\n",
    "    resize function to resize the queue by doubling its size.\n",
    "    Note: we also reset the front to index 0.\n",
    "    \"\"\"\n",
    "    def resize(self):\n",
    "        # If the queue is wrapped, reset order of elems.\n",
    "        if not (self.rear > self.front):\n",
    "            self.queue = self.queue[self.front:] + self.queue[0:self.rear]\n",
    "\n",
    "        # Update front and rear.\n",
    "        self.front = 0\n",
    "        self.rear = self.numElems\n",
    "\n",
    "        # Now append the extra space (double size).\n",
    "        self.queue = self.queue + [None for x in self.queue]\n",
    "        return\n",
    "\n",
    "    \"\"\"\n",
    "    push function to push a value into the rear of the queue.\n",
    "    \"\"\"\n",
    "    def push(self, val):\n",
    "        \n",
    "        if self.isFull():\n",
    "            self.resize()\n",
    "        \n",
    "        #print(\"push \"); print(val);\n",
    "        self.rear = (self.rear + 1) % 100\n",
    "        self.numElems += 1\n",
    "        self.queue[self.rear] = val\n",
    "        #print(self.queue); print(self.front); print(self.rear)\n",
    "        \n",
    "        return\n",
    "\n",
    "    \"\"\"\n",
    "    pop function to pop the value from the front of the queue.\n",
    "    \"\"\"\n",
    "    def pop(self):\n",
    "        ##### IMPLEMENT! #####\n",
    "        \n",
    "        if not self.isEmpty():\n",
    "            val = self.queue[self.front]\n",
    "            self.queue[self.front] = None\n",
    "            self.front = (self.front + 1) % 100\n",
    "            self.numElems -= 1\n",
    "            \n",
    "            #print(\"pop \"); print(val)\n",
    "            #print(self.queue); print(self.front); print(self.rear)\n",
    "            return val\n",
    "        \n",
    "        return None"
   ]
  },
  {
   "cell_type": "code",
   "execution_count": 33,
   "metadata": {
    "collapsed": true
   },
   "outputs": [],
   "source": [
    "\"\"\"\n",
    "Vertex Class\n",
    "\"\"\"\n",
    "class Vertex:\n",
    "\n",
    "    \"\"\"\n",
    "    Class attributes:\n",
    "    \n",
    "    rank    # The rank of this node.\n",
    "    neigh   # The list of neighbors.\n",
    "    dist    # The distance from start.\n",
    "    visited # Flag whether vertex has been visited.\n",
    "    prev    # The previous vertex in the path.\n",
    "    \"\"\"\n",
    "\n",
    "    \"\"\"\n",
    "    __init__ function to initialize the vertex.\n",
    "    \"\"\"\n",
    "    def __init__(self, rank):\n",
    "\n",
    "        self.rank = rank     # Set the rank of this vertex.\n",
    "        self.neigh = []      # Set the input neighbors.\n",
    "        self.dist = math.inf # Infinite dist initially.\n",
    "        self.visited = False # Nothing visited at initialization.\n",
    "        self.prev = None     # No previous node on path yet.\n",
    "        return\n",
    "\n",
    "    \"\"\"\n",
    "    __repr__ function to print a vertex.\n",
    "    Note: only prints the rank!\n",
    "    \"\"\"\n",
    "    def __repr__(self):\n",
    "        return '%d' % self.rank\n",
    "\n",
    "    \"\"\"\n",
    "    isEqual function compares this Vertex to an input Vertex object.\n",
    "    Note: only needs to compare the rank!\n",
    "    \"\"\"\n",
    "    def isEqual(self,vertex):\n",
    "        return self.rank == vertex.rank"
   ]
  },
  {
   "cell_type": "code",
   "execution_count": 34,
   "metadata": {
    "collapsed": true
   },
   "outputs": [],
   "source": [
    "\"\"\"\n",
    "Maze Class\n",
    "\"\"\"\n",
    "class Maze:\n",
    "\n",
    "    \"\"\"\n",
    "    Class attributes:\n",
    "\n",
    "    maze    # The 2D list representing the maze.\n",
    "    adjList # The adjacency list of Vertex objects.\n",
    "    adjMat  # The adjacency matrix, 2D list.\n",
    "    start   # The start Vertex object.\n",
    "    exit    # The exit Vertex object.\n",
    "    path    # The path from start to exit, list of ranks.\n",
    "    verb    # A flag to control printing. False prints less.\n",
    "    \"\"\"\n",
    "\n",
    "    \"\"\"\n",
    "    __init__ function to initialize the maze.\n",
    "    \"\"\"\n",
    "    def __init__(self, mazeNum=0, verbosity=False):\n",
    "\n",
    "        # Select the maze to use.\n",
    "        self.maze = getMaze(mazeNum)\n",
    "\n",
    "        # Create an adjacency list of empty vertices.\n",
    "        self.adjList = [Vertex(r) for r in \\\n",
    "                        range(0,len(self.maze)*len(self.maze[0]))]\n",
    "\n",
    "        # Initialize the adjacency matrix to have no edges yet.\n",
    "        self.adjMat = [[0 for x in self.adjList] for y in self.adjList]\n",
    "\n",
    "        # Now loop through the maze and update adjacencies.\n",
    "        # In this loop, maze[r][c] will correspond to vertex rank:\n",
    "        #     r*len(maze[0])+c\n",
    "        # Note: we skip the first and last row/col.\n",
    "        for r in range(1,len(self.maze)-1):\n",
    "            for c in range(1,len(self.maze[r])-1):\n",
    "                # Note that maze[r][c] will now be a 0 or a 1.\n",
    "                # If it is 0, then open space and needs adjacency.\n",
    "                # If it is 1, then wall and no adjacency.\n",
    "                if self.maze[r][c] == 0:\n",
    "                    # If up is open, it is a neighbor.\n",
    "                    if self.maze[r-1][c] == 0:\n",
    "                        # Append the neighbor to the neigh list.\n",
    "                        self.adjList[r*len(self.maze[0])+c].neigh.append(\\\n",
    "                            self.adjList[(r-1)*len(self.maze[0])+c])\n",
    "\n",
    "                        # Update the correct entry in the adjMat.\n",
    "                        self.adjMat[r*len(self.maze[0])+c]\\\n",
    "                                   [(r-1)*len(self.maze[0])+c] = 1\n",
    "                        \n",
    "                    # If down is open, it is a neighbor.\n",
    "                    if self.maze[r+1][c] == 0:\n",
    "                        # Append the neighbor to the neigh list.\n",
    "                        self.adjList[r*len(self.maze[0])+c].neigh.append(\\\n",
    "                            self.adjList[(r+1)*len(self.maze[0])+c])\n",
    "\n",
    "                        # Update the correct entry in the adjMat.\n",
    "                        self.adjMat[r*len(self.maze[0])+c]\\\n",
    "                                   [(r+1)*len(self.maze[0])+c] = 1\n",
    "                        \n",
    "                    # If left is open, it is a neighbor.\n",
    "                    if self.maze[r][c-1] == 0:\n",
    "                        # Append the neighbor to the neigh list.\n",
    "                        self.adjList[r*len(self.maze[0])+c].neigh.append(\\\n",
    "                            self.adjList[r*len(self.maze[0])+c-1])\n",
    "\n",
    "                        # Update the correct entry in the adjMat.\n",
    "                        self.adjMat[r*len(self.maze[0])+c]\\\n",
    "                                   [r*len(self.maze[0])+c-1] = 1\n",
    "                        \n",
    "                    # If right is open, it is a neighbor.\n",
    "                    if self.maze[r][c+1] == 0:\n",
    "                        # Append the neighbor to the neigh list.\n",
    "                        self.adjList[r*len(self.maze[0])+c].neigh.append(\\\n",
    "                            self.adjList[r*len(self.maze[0])+c+1])\n",
    "\n",
    "                        # Update the correct entry in the adjMat.\n",
    "                        self.adjMat[r*len(self.maze[0])+c]\\\n",
    "                                   [r*len(self.maze[0])+c+1] = 1\n",
    "\n",
    "        # Find the start in the top row and exit in the bottom row.\n",
    "        # Update their info in the adjList and adjMat.\n",
    "        # Note: start's only neighbor is down and exit's is up.\n",
    "        for ind in range(0,len(self.maze[0])):\n",
    "            if self.maze[0][ind] == 0:\n",
    "                self.start = self.adjList[ind]\n",
    "                self.start.neigh = [self.adjList[ind + len(self.maze[0])]]\n",
    "                self.adjMat[ind][ind + len(self.maze[0])] = 1\n",
    "                break\n",
    "        for ind in range(0,len(self.maze[len(self.maze)-1])):\n",
    "            if self.maze[len(self.maze)-1][ind] == 0:\n",
    "                self.exit = \\\n",
    "                    self.adjList[ind + (len(self.maze)-1)*len(self.maze[0])]\n",
    "                self.exit.neigh = [self.adjList[ind + \\\n",
    "                                   (len(self.maze)-2)*len(self.maze[0])]]\n",
    "                self.adjMat[self.exit.rank]\\\n",
    "                           [self.exit.rank - len(self.maze[0])] = 1\n",
    "                break\n",
    "\n",
    "        # Set the path to be empty.\n",
    "        self.path = []\n",
    "\n",
    "        # Set verbosity.\n",
    "        self.verb = verbosity\n",
    "        return\n",
    "\n",
    "    \"\"\"\n",
    "    __repr function to print the maze.\n",
    "    \"\"\"\n",
    "    def __repr__(self):\n",
    "        # Loop through the rows and cols of the maze and fill in 'X' for a wall\n",
    "        # and ' ' for an open space. Put line breaks between rows.\n",
    "        mp = ''\n",
    "        for r in range(0,len(self.maze)):\n",
    "            for c in range(0,len(self.maze)):\n",
    "                if self.maze[r][c] == 0:\n",
    "                    mp += ' '\n",
    "                else:\n",
    "                    mp += 'X'\n",
    "            mp += '\\n'\n",
    "\n",
    "        # Mark the start with 's' and the end with 'e'.\n",
    "        # Note the shift due to the line break symbols.\n",
    "        # Note that each line break '\\n' counts as 1 char...\n",
    "        mp = mp[0:self.start.rank] + 's' + \\\n",
    "             mp[self.start.rank+1:self.exit.rank+len(self.maze)-1] + \\\n",
    "             'e' + mp[self.exit.rank+len(self.maze):]\n",
    "\n",
    "        # If the path is not empty, fill it in.\n",
    "        # Check to make sure it is a correct and valid path.\n",
    "        if len(self.path) > 0:\n",
    "\n",
    "            # Not an invalid path yet...\n",
    "            invalid = False\n",
    "            \n",
    "            # Needs to start at start and end at end.\n",
    "            if self.path[0] != self.start.rank:\n",
    "                print('Path does not begin at start!')\n",
    "                invalid = True\n",
    "                mp = mp[0:self.start.rank+self.start.rank//len(self.maze[0])]+\\\n",
    "                     '!' + \\\n",
    "                     mp[self.start.rank+self.start.rank//len(self.maze[0])+1:]\n",
    "            if self.path[len(self.path)-1] != self.exit.rank:\n",
    "                print('Path does not exit the maze!')\n",
    "                invalid = True\n",
    "                mp = mp[0:self.exit.rank+self.exit.rank//len(self.maze[0])]+\\\n",
    "                     '!' + \\\n",
    "                     mp[self.exit.rank+self.exit.rank//len(self.maze[0])+1:]\n",
    "\n",
    "            # Loop through the path and fill it in.\n",
    "            # Check for invalid ghosts and repeats.\n",
    "            for vertex in self.path:\n",
    "                # Skip the start and end.\n",
    "                if (vertex != self.start.rank) and (vertex != self.exit.rank):\n",
    "                    # Check if it is a wall or opening. Fill if open.\n",
    "                    # Also check if already visited.\n",
    "                    if mp[vertex+vertex//len(self.maze[0])] == 'X':\n",
    "                        print('No ghosts! Do not walk through walls!')\n",
    "                        invalid = True\n",
    "                        mp = mp[0:vertex+vertex//len(self.maze[0])] + 'G' + \\\n",
    "                             mp[vertex+vertex//len(self.maze[0])+1:]\n",
    "                    elif mp[vertex+vertex//len(self.maze[0])] == 'o':\n",
    "                        print('You have already been to this vertex...')\n",
    "                        invalid = True\n",
    "                        mp = mp[0:vertex+vertex//len(self.maze[0])] + 'R' + \\\n",
    "                             mp[vertex+vertex//len(self.maze[0])+1:]\n",
    "                    elif mp[vertex+vertex//len(self.maze[0])] == 'G':\n",
    "                        print('Repeated ghosts!')\n",
    "                    elif mp[vertex+vertex//len(self.maze[0])] == 'R':\n",
    "                        print('Repeating again!')\n",
    "\n",
    "                    else:\n",
    "                        mp = mp[0:vertex+vertex//len(self.maze[0])] + 'o' + \\\n",
    "                             mp[vertex+vertex//len(self.maze[0])+1:]\n",
    "\n",
    "            # Loop through the path to make sure that each neighbor is actually\n",
    "            # a neighbor...\n",
    "            for vInd in range(0,len(self.path)-1):\n",
    "                if (self.adjMat[self.path[vInd]][self.path[vInd+1]] != 1) \\\n",
    "                   and (self.path[vInd] != self.path[vInd+1]):\n",
    "                    print('Not a neighbor! You cannot teleport!')\n",
    "                    invalid = True\n",
    "\n",
    "            # If we had an invalid path, print that fact.\n",
    "            if invalid:\n",
    "                print('')\n",
    "                print('Path is invalid!')\n",
    "                print('')\n",
    "            else:\n",
    "                print('')\n",
    "                print('MAZE SOLVED!!!')\n",
    "                print('')\n",
    "\n",
    "        # Return the string for printing.\n",
    "        if self.verb:\n",
    "            return mp\n",
    "        else:\n",
    "            return ''\n",
    "\n",
    "    \"\"\"\n",
    "    printList function for cleanly printing the adjaceny list.\n",
    "    Note: skips vertices with no neighbors.\n",
    "    \"\"\"\n",
    "    def printList(self):\n",
    "        for vertex in self.adjList:\n",
    "            if len(vertex.neigh) > 0:\n",
    "                print('Rank: %d' % vertex.rank)\n",
    "                print('Neighbors:')\n",
    "                print(vertex.neigh)\n",
    "                print('')\n",
    "        return\n",
    "\n",
    "    \"\"\"\n",
    "    printMat function for cleanly printing the adjaceny matrix.\n",
    "    Note: for the larger mazes, this will still likely be hard to read.\n",
    "    \"\"\"\n",
    "    def printMat(self):\n",
    "        for row in self.adjMat:\n",
    "            print(row)\n",
    "        return\n",
    "\n",
    "    \"\"\"\n",
    "    solve function calls implemented bdfs using the input alg.\n",
    "    Note: set verbosity to True to print out the resulting maze/path.\n",
    "    \"\"\"\n",
    "    def solve(self, alg, verbosity=False):\n",
    "        self.path = bdfs(self, alg)\n",
    "        if len(self.path) == 0:\n",
    "            print('Maze not solved!\\n')\n",
    "        self.verb = verbosity\n",
    "        print(self)\n",
    "        return"
   ]
  },
  {
   "cell_type": "code",
   "execution_count": 27,
   "metadata": {
    "collapsed": true
   },
   "outputs": [],
   "source": [
    "\"\"\"\n",
    "getMaze function will provide the 2D array representing the maze to the Maze\n",
    "class's __init__ function.\n",
    "\n",
    "INPUTS\n",
    "mazeNum: which maze to select\n",
    "\n",
    "OUTPUTS\n",
    "maze: a 2D list representing the maze\n",
    "\"\"\"\n",
    "def getMaze(mazeNum=0):\n",
    "    # Select the maze to use.\n",
    "    if mazeNum == 0:\n",
    "        maze = [[1,1,0,1,1],\\\n",
    "                [1,0,0,0,1],\\\n",
    "                [1,0,0,0,1],\\\n",
    "                [1,0,0,0,1],\\\n",
    "                [1,1,0,1,1],]\n",
    "    elif mazeNum == 1:\n",
    "        maze = [[1,1,0,1,1],\\\n",
    "                [1,0,0,0,1],\\\n",
    "                [1,0,1,1,1],\\\n",
    "                [1,0,0,0,1],\\\n",
    "                [1,1,0,1,1],]\n",
    "    elif mazeNum == 2:\n",
    "        maze = [[1,1,1,1,1,1,1,0,1,1,1,1,1,1,1,1,1,1,1,1,1,1,1,1,1],\\\n",
    "                [1,0,0,1,0,1,0,0,0,1,0,0,0,1,0,0,0,1,0,0,0,1,1,0,1],\\\n",
    "                [1,1,0,1,0,1,0,1,0,1,0,1,0,1,0,1,0,0,0,1,0,0,0,0,1],\\\n",
    "                [1,1,0,1,0,1,1,1,0,1,0,1,0,1,0,1,1,1,1,1,1,1,1,0,1],\\\n",
    "                [1,0,0,1,0,0,0,0,0,1,0,1,0,1,0,0,0,1,0,0,0,0,1,0,1],\\\n",
    "                [1,0,1,1,1,0,1,1,1,1,0,1,0,1,0,1,0,1,0,1,1,0,0,0,1],\\\n",
    "                [1,0,0,0,0,0,0,0,0,0,0,1,0,1,0,1,0,1,0,1,1,1,1,1,1],\\\n",
    "                [1,1,1,1,1,1,1,1,1,1,1,1,0,1,1,1,0,1,0,0,1,0,0,0,1],\\\n",
    "                [1,0,0,1,0,0,0,1,0,0,0,1,0,0,0,1,0,1,1,0,1,0,1,1,1],\\\n",
    "                [1,1,0,1,0,1,0,0,0,1,0,1,0,1,1,1,0,0,1,0,1,0,0,0,1],\\\n",
    "                [1,1,0,1,0,1,1,1,1,1,0,1,0,1,0,1,0,1,1,0,1,0,1,0,1],\\\n",
    "                [1,1,0,1,0,0,0,0,0,1,0,0,0,1,0,0,0,0,1,0,1,1,1,0,1],\\\n",
    "                [1,1,0,1,1,1,1,1,0,1,1,0,1,1,1,1,1,0,1,0,0,0,0,0,1],\\\n",
    "                [1,0,0,0,0,0,0,1,0,1,1,0,0,0,0,0,1,0,1,1,1,0,1,0,1],\\\n",
    "                [1,0,1,1,1,1,1,1,0,1,0,0,1,1,1,0,1,0,0,0,1,0,1,0,1],\\\n",
    "                [1,0,0,0,0,0,0,0,0,1,0,1,1,0,1,0,1,1,1,0,1,0,1,0,1],\\\n",
    "                [1,1,1,1,1,1,1,1,1,1,0,1,0,0,1,0,0,0,1,0,1,0,1,0,1],\\\n",
    "                [1,0,0,0,0,1,0,0,0,1,1,1,0,1,1,1,1,0,1,0,1,0,1,0,1],\\\n",
    "                [1,0,1,1,0,1,0,1,0,0,0,0,0,0,0,0,1,0,1,0,1,1,1,0,1],\\\n",
    "                [1,0,0,1,0,1,0,1,1,1,1,1,0,1,1,0,1,0,1,0,1,0,1,0,1],\\\n",
    "                [1,0,1,1,0,1,0,1,0,1,0,0,0,1,0,0,1,0,0,0,1,0,0,0,1],\\\n",
    "                [1,0,1,0,0,1,0,1,0,0,0,1,1,1,0,1,1,1,1,1,1,1,0,1,1],\\\n",
    "                [1,0,1,1,1,1,0,1,0,1,0,0,0,1,0,1,0,0,0,0,0,1,0,1,1],\\\n",
    "                [1,0,0,0,0,0,0,1,0,1,1,1,0,1,0,0,0,1,1,1,0,0,0,1,1],\\\n",
    "                [1,1,1,1,1,1,0,1,1,1,1,1,1,1,1,1,1,1,1,1,1,1,1,1,1]]\n",
    "    elif mazeNum == 3:\n",
    "        maze = [[1,0,1,1,1,1,1,1,1,1,1,1,1,1,1,1,1,1,1,1,1,1,1,1,1],\\\n",
    "                [1,0,0,0,0,0,0,0,0,0,0,0,0,0,0,0,0,0,0,0,0,0,0,0,1],\\\n",
    "                [1,1,1,1,1,1,1,1,1,1,1,1,1,1,1,1,1,1,1,1,1,1,1,0,1],\\\n",
    "                [1,0,0,0,0,0,0,0,0,0,0,0,0,0,0,0,0,0,0,0,0,0,0,0,1],\\\n",
    "                [1,0,1,1,1,1,1,1,1,1,1,1,1,1,1,1,1,1,1,1,1,1,1,1,1],\\\n",
    "                [1,0,0,0,0,0,0,0,0,0,0,0,0,0,0,0,0,0,0,0,0,0,0,0,1],\\\n",
    "                [1,1,1,1,1,1,1,1,1,1,1,1,1,1,1,1,1,1,1,1,1,1,1,0,1],\\\n",
    "                [1,0,0,0,0,0,0,0,0,0,0,0,0,0,0,0,0,0,0,0,0,0,0,0,1],\\\n",
    "                [1,0,1,1,1,1,1,1,1,1,1,1,1,1,1,1,1,1,1,1,1,1,1,1,1],\\\n",
    "                [1,0,0,0,0,0,0,0,0,0,0,0,0,0,0,0,0,0,0,0,0,0,0,0,1],\\\n",
    "                [1,1,1,1,1,1,1,1,1,1,1,1,1,1,1,1,1,1,1,1,1,1,1,0,1],\\\n",
    "                [1,0,0,0,0,0,0,0,0,0,0,0,0,0,0,0,0,0,0,0,0,0,0,0,1],\\\n",
    "                [1,0,1,1,1,1,1,1,1,1,1,1,1,1,1,1,1,1,1,1,1,1,1,1,1],\\\n",
    "                [1,0,0,0,0,0,0,0,0,0,0,0,0,0,0,0,0,0,0,0,0,0,0,0,1],\\\n",
    "                [1,1,1,1,1,1,1,1,1,1,1,1,1,1,1,1,1,1,1,1,1,1,1,0,1],\\\n",
    "                [1,0,0,0,0,0,0,0,0,0,0,0,0,0,0,0,0,0,0,0,0,0,0,0,1],\\\n",
    "                [1,0,1,1,1,1,1,1,1,1,1,1,1,1,1,1,1,1,1,1,1,1,1,1,1],\\\n",
    "                [1,0,0,0,0,0,0,0,0,0,0,0,0,0,0,0,0,0,0,0,0,0,0,0,1],\\\n",
    "                [1,1,1,1,1,1,1,1,1,1,1,1,1,1,1,1,1,1,1,1,1,1,1,0,1],\\\n",
    "                [1,0,0,0,0,0,0,0,0,0,0,0,0,0,0,0,0,0,0,0,0,0,0,0,1],\\\n",
    "                [1,0,1,1,1,1,1,1,1,1,1,1,1,1,1,1,1,1,1,1,1,1,1,1,1],\\\n",
    "                [1,0,0,0,0,0,0,0,0,0,0,0,0,0,0,0,0,0,0,0,0,0,0,0,1],\\\n",
    "                [1,1,1,1,1,1,1,1,1,1,1,1,1,1,1,1,1,1,1,1,1,1,1,0,1],\\\n",
    "                [1,0,0,0,0,0,0,0,0,0,0,0,0,0,0,0,0,0,0,0,0,0,0,0,1],\\\n",
    "                [1,0,1,1,1,1,1,1,1,1,1,1,1,1,1,1,1,1,1,1,1,1,1,1,1]]\n",
    "    else:\n",
    "        raise Exception('Input mazeNum not valid!')\n",
    "\n",
    "    return maze"
   ]
  },
  {
   "cell_type": "code",
   "execution_count": 28,
   "metadata": {
    "collapsed": true
   },
   "outputs": [],
   "source": [
    "\"\"\"\n",
    "testMazes function will test all of the mazes.\n",
    "\"\"\"\n",
    "def testMazes(verbosity=False):\n",
    "    m = Maze(0,verbosity)\n",
    "    print('Testing Maze 0, DFS')\n",
    "    m.solve('DFS',verbosity)\n",
    "    print('Testing Maze 0, BFS')\n",
    "    m.solve('BFS',verbosity)\n",
    "    m = Maze(1,verbosity)\n",
    "    print('Testing Maze 1, DFS')\n",
    "    m.solve('DFS',verbosity)\n",
    "    print('Testing Maze 1, BFS')\n",
    "    m.solve('BFS',verbosity)\n",
    "    m = Maze(2,verbosity)\n",
    "    print('Testing Maze 2, DFS')\n",
    "    m.solve('DFS',verbosity)\n",
    "    print('Testing Maze 2, BFS')\n",
    "    m.solve('BFS',verbosity)\n",
    "    m = Maze(3,verbosity)\n",
    "    print('Testing Maze 3, DFS')\n",
    "    m.solve('DFS',verbosity)\n",
    "    print('Testing Maze 3, BFS')\n",
    "    m.solve('BFS',verbosity)\n",
    "    return"
   ]
  },
  {
   "cell_type": "code",
   "execution_count": 29,
   "metadata": {
    "collapsed": true
   },
   "outputs": [],
   "source": [
    "verbosity=False"
   ]
  },
  {
   "cell_type": "code",
   "execution_count": 47,
   "metadata": {},
   "outputs": [
    {
     "data": {
      "text/plain": [
       "[[1, 1, 1, 1, 1, 1, 1, 0, 1, 1, 1, 1, 1, 1, 1, 1, 1, 1, 1, 1, 1, 1, 1, 1, 1],\n",
       " [1, 0, 0, 1, 0, 1, 0, 0, 0, 1, 0, 0, 0, 1, 0, 0, 0, 1, 0, 0, 0, 1, 1, 0, 1],\n",
       " [1, 1, 0, 1, 0, 1, 0, 1, 0, 1, 0, 1, 0, 1, 0, 1, 0, 0, 0, 1, 0, 0, 0, 0, 1],\n",
       " [1, 1, 0, 1, 0, 1, 1, 1, 0, 1, 0, 1, 0, 1, 0, 1, 1, 1, 1, 1, 1, 1, 1, 0, 1],\n",
       " [1, 0, 0, 1, 0, 0, 0, 0, 0, 1, 0, 1, 0, 1, 0, 0, 0, 1, 0, 0, 0, 0, 1, 0, 1],\n",
       " [1, 0, 1, 1, 1, 0, 1, 1, 1, 1, 0, 1, 0, 1, 0, 1, 0, 1, 0, 1, 1, 0, 0, 0, 1],\n",
       " [1, 0, 0, 0, 0, 0, 0, 0, 0, 0, 0, 1, 0, 1, 0, 1, 0, 1, 0, 1, 1, 1, 1, 1, 1],\n",
       " [1, 1, 1, 1, 1, 1, 1, 1, 1, 1, 1, 1, 0, 1, 1, 1, 0, 1, 0, 0, 1, 0, 0, 0, 1],\n",
       " [1, 0, 0, 1, 0, 0, 0, 1, 0, 0, 0, 1, 0, 0, 0, 1, 0, 1, 1, 0, 1, 0, 1, 1, 1],\n",
       " [1, 1, 0, 1, 0, 1, 0, 0, 0, 1, 0, 1, 0, 1, 1, 1, 0, 0, 1, 0, 1, 0, 0, 0, 1],\n",
       " [1, 1, 0, 1, 0, 1, 1, 1, 1, 1, 0, 1, 0, 1, 0, 1, 0, 1, 1, 0, 1, 0, 1, 0, 1],\n",
       " [1, 1, 0, 1, 0, 0, 0, 0, 0, 1, 0, 0, 0, 1, 0, 0, 0, 0, 1, 0, 1, 1, 1, 0, 1],\n",
       " [1, 1, 0, 1, 1, 1, 1, 1, 0, 1, 1, 0, 1, 1, 1, 1, 1, 0, 1, 0, 0, 0, 0, 0, 1],\n",
       " [1, 0, 0, 0, 0, 0, 0, 1, 0, 1, 1, 0, 0, 0, 0, 0, 1, 0, 1, 1, 1, 0, 1, 0, 1],\n",
       " [1, 0, 1, 1, 1, 1, 1, 1, 0, 1, 0, 0, 1, 1, 1, 0, 1, 0, 0, 0, 1, 0, 1, 0, 1],\n",
       " [1, 0, 0, 0, 0, 0, 0, 0, 0, 1, 0, 1, 1, 0, 1, 0, 1, 1, 1, 0, 1, 0, 1, 0, 1],\n",
       " [1, 1, 1, 1, 1, 1, 1, 1, 1, 1, 0, 1, 0, 0, 1, 0, 0, 0, 1, 0, 1, 0, 1, 0, 1],\n",
       " [1, 0, 0, 0, 0, 1, 0, 0, 0, 1, 1, 1, 0, 1, 1, 1, 1, 0, 1, 0, 1, 0, 1, 0, 1],\n",
       " [1, 0, 1, 1, 0, 1, 0, 1, 0, 0, 0, 0, 0, 0, 0, 0, 1, 0, 1, 0, 1, 1, 1, 0, 1],\n",
       " [1, 0, 0, 1, 0, 1, 0, 1, 1, 1, 1, 1, 0, 1, 1, 0, 1, 0, 1, 0, 1, 0, 1, 0, 1],\n",
       " [1, 0, 1, 1, 0, 1, 0, 1, 0, 1, 0, 0, 0, 1, 0, 0, 1, 0, 0, 0, 1, 0, 0, 0, 1],\n",
       " [1, 0, 1, 0, 0, 1, 0, 1, 0, 0, 0, 1, 1, 1, 0, 1, 1, 1, 1, 1, 1, 1, 0, 1, 1],\n",
       " [1, 0, 1, 1, 1, 1, 0, 1, 0, 1, 0, 0, 0, 1, 0, 1, 0, 0, 0, 0, 0, 1, 0, 1, 1],\n",
       " [1, 0, 0, 0, 0, 0, 0, 1, 0, 1, 1, 1, 0, 1, 0, 0, 0, 1, 1, 1, 0, 0, 0, 1, 1],\n",
       " [1, 1, 1, 1, 1, 1, 0, 1, 1, 1, 1, 1, 1, 1, 1, 1, 1, 1, 1, 1, 1, 1, 1, 1, 1]]"
      ]
     },
     "execution_count": 47,
     "metadata": {},
     "output_type": "execute_result"
    }
   ],
   "source": [
    "m = Maze(2,verbosity)\n",
    "m.maze"
   ]
  },
  {
   "cell_type": "code",
   "execution_count": 78,
   "metadata": {},
   "outputs": [
    {
     "name": "stdout",
     "output_type": "stream",
     "text": [
      "Testing Maze 0, DFS\n",
      "\n",
      "MAZE SOLVED!!!\n",
      "\n",
      "\n"
     ]
    }
   ],
   "source": [
    "m = Maze(1,verbosity)\n",
    "print('Testing Maze 0, DFS')\n",
    "m.solve('DFS',verbosity)"
   ]
  },
  {
   "cell_type": "code",
   "execution_count": null,
   "metadata": {
    "collapsed": true
   },
   "outputs": [],
   "source": []
  },
  {
   "cell_type": "code",
   "execution_count": 82,
   "metadata": {},
   "outputs": [
    {
     "name": "stdout",
     "output_type": "stream",
     "text": [
      "Testing Maze 1, DFS\n",
      "\n",
      "MAZE SOLVED!!!\n",
      "\n",
      "\n"
     ]
    }
   ],
   "source": [
    "m = Maze(1,verbosity)\n",
    "print('Testing Maze 1, DFS')\n",
    "m.solve('BFS',verbosity)"
   ]
  },
  {
   "cell_type": "code",
   "execution_count": 83,
   "metadata": {},
   "outputs": [
    {
     "name": "stdout",
     "output_type": "stream",
     "text": [
      "Testing Maze 2, DFS\n",
      "\n",
      "MAZE SOLVED!!!\n",
      "\n",
      "\n"
     ]
    }
   ],
   "source": [
    "m = Maze(2,verbosity)\n",
    "print('Testing Maze 2, DFS')\n",
    "m.solve('BFS',verbosity)"
   ]
  },
  {
   "cell_type": "code",
   "execution_count": 84,
   "metadata": {},
   "outputs": [
    {
     "name": "stdout",
     "output_type": "stream",
     "text": [
      "Testing Maze 3, DFS\n",
      "\n",
      "MAZE SOLVED!!!\n",
      "\n",
      "\n"
     ]
    }
   ],
   "source": [
    "m = Maze(3,verbosity)\n",
    "print('Testing Maze 3, DFS')\n",
    "m.solve('BFS',verbosity)"
   ]
  },
  {
   "cell_type": "code",
   "execution_count": null,
   "metadata": {
    "collapsed": true
   },
   "outputs": [],
   "source": []
  },
  {
   "cell_type": "code",
   "execution_count": 182,
   "metadata": {
    "collapsed": true
   },
   "outputs": [],
   "source": [
    "m = Maze(0, verbosity=True)"
   ]
  },
  {
   "cell_type": "code",
   "execution_count": 183,
   "metadata": {},
   "outputs": [
    {
     "data": {
      "text/plain": [
       "[]"
      ]
     },
     "execution_count": 183,
     "metadata": {},
     "output_type": "execute_result"
    }
   ],
   "source": [
    "m.path"
   ]
  },
  {
   "cell_type": "code",
   "execution_count": 184,
   "metadata": {},
   "outputs": [
    {
     "data": {
      "text/plain": [
       "[2, 7, 8, 13, 12, 11, 16, 17, 22]"
      ]
     },
     "execution_count": 184,
     "metadata": {},
     "output_type": "execute_result"
    }
   ],
   "source": [
    "bdfs(m, \"DFS\")"
   ]
  },
  {
   "cell_type": "code",
   "execution_count": 66,
   "metadata": {
    "collapsed": true
   },
   "outputs": [],
   "source": [
    "\"\"\"\n",
    "BFS/DFS function\n",
    "\n",
    "INPUTS\n",
    "maze: A Maze object representing the maze.\n",
    "alg:  A string that is either 'BFS' or 'DFS'.\n",
    "\n",
    "OUTPUTS\n",
    "path: The shortest path from maze.start to maze.exit.\n",
    "\"\"\"\n",
    "def bdfs(maze, alg):\n",
    "    # If the alg is not BFS or DFS, raise exception.\n",
    "    if (alg != 'BFS') and (alg != 'DFS'):\n",
    "        raise Exception('Incorrect alg! Need BFS or DFS!')\n",
    "\n",
    "    if alg == 'DFS':\n",
    "        # reset vertices and previous visited\n",
    "        for v in m.adjList:\n",
    "            v.visited = False\n",
    "            v.prev = None        \n",
    "        \n",
    "        # initialize stack\n",
    "        stack = Stack()\n",
    "\n",
    "        # push start vertex onto stack\n",
    "        stack.push(maze.start)\n",
    "\n",
    "        while not stack.isEmpty():\n",
    "            # get the current room\n",
    "#             print(\"stack\", stack)\n",
    "            current = stack.pop()\n",
    "            current.visited = True\n",
    "#             print(\"current\", current)\n",
    "\n",
    "            # push all neighbors onto stack\n",
    "            # then record where we came from if not already visited\n",
    "#             print(\"neighbors\", current.neigh)\n",
    "            for neighbor in current.neigh:\n",
    "#                 print(neighbor)\n",
    "                if neighbor.visited == False:\n",
    "#                     print(neighbor)\n",
    "                    stack.push(neighbor)\n",
    "                    neighbor.prev = current\n",
    "\n",
    "#             print(\"\\n\")\n",
    "\n",
    "        path = []\n",
    "        v = maze.exit\n",
    "        path.append(v.rank)\n",
    "\n",
    "        while v.rank != maze.start.rank:\n",
    "            v = v.prev\n",
    "            path.append(v.rank)\n",
    "\n",
    "        path.reverse()\n",
    "        \n",
    "    if alg == 'BFS':\n",
    "        for v in m.adjList:\n",
    "            v.dist = math.inf\n",
    "            #v.visited = False\n",
    "            v.prev = None        \n",
    "        \n",
    "        queue = Queue()\n",
    "        queue.push(maze.start)\n",
    "        maze.start.dist = 0\n",
    "\n",
    "        while not queue.isEmpty():\n",
    "            current = queue.pop()\n",
    "            for neighbor in current.neigh:\n",
    "                #print(neighbor)\n",
    "                if neighbor.dist == math.inf:\n",
    "                    queue.push(neighbor)\n",
    "                    neighbor.dist = current.dist + 1\n",
    "                    neighbor.prev = current\n",
    "\n",
    "\n",
    "        path = []\n",
    "        v = maze.exit\n",
    "        path.append(v.rank)\n",
    "\n",
    "        while v.rank != maze.start.rank:\n",
    "            v = v.prev\n",
    "            path.append(v.rank)\n",
    "\n",
    "        path.reverse()\n",
    "        \n",
    "    return path"
   ]
  },
  {
   "cell_type": "code",
   "execution_count": null,
   "metadata": {
    "collapsed": true,
    "scrolled": true
   },
   "outputs": [],
   "source": [
    "# initialize maze\n",
    "m = Maze(2, verbosity=True)\n",
    "\n",
    "# initialize stack\n",
    "stack = Stack(size=10)\n",
    "\n",
    "# push start vertex onto stack\n",
    "stack.push(m.start)\n",
    "\n",
    "while not stack.isEmpty():\n",
    "    # get the current room\n",
    "    print(\"stack\", stack)\n",
    "    current = stack.pop()\n",
    "    current.visited = True\n",
    "    print(\"current\", current)\n",
    "    \n",
    "    # push all neighbors onto stack\n",
    "    # then record where we came from if not already visited\n",
    "    print(\"neighbors\", current.neigh)\n",
    "    for neighbor in current.neigh:\n",
    "#        print(neighbor)\n",
    "        if neighbor.visited == False:\n",
    "#            print(neighbor)\n",
    "            stack.push(neighbor)\n",
    "            neighbor.prev = current\n",
    "    \n",
    "    print(\"\\n\")\n",
    "\n",
    "path = []\n",
    "v = m.exit\n",
    "path.append(v.rank)\n",
    "\n",
    "while v.rank != m.start.rank:\n",
    "    v = v.prev\n",
    "    path.append(v.rank)\n",
    "\n",
    "path.reverse()"
   ]
  },
  {
   "cell_type": "code",
   "execution_count": 165,
   "metadata": {},
   "outputs": [
    {
     "data": {
      "text/plain": [
       "606"
      ]
     },
     "execution_count": 165,
     "metadata": {},
     "output_type": "execute_result"
    }
   ],
   "source": [
    "m.exit"
   ]
  },
  {
   "cell_type": "code",
   "execution_count": 155,
   "metadata": {
    "collapsed": true
   },
   "outputs": [],
   "source": [
    "path = []\n",
    "v = m.exit\n",
    "path.append(v.rank)\n",
    "\n",
    "while v.rank != m.start.rank:\n",
    "    v = v.prev\n",
    "    path.append(v.rank)\n",
    "\n",
    "path.reverse()"
   ]
  },
  {
   "cell_type": "code",
   "execution_count": 156,
   "metadata": {},
   "outputs": [
    {
     "data": {
      "text/plain": [
       "[2, 7, 8, 13, 12, 11, 16, 17, 22]"
      ]
     },
     "execution_count": 156,
     "metadata": {},
     "output_type": "execute_result"
    }
   ],
   "source": [
    "path"
   ]
  },
  {
   "cell_type": "code",
   "execution_count": 148,
   "metadata": {},
   "outputs": [
    {
     "data": {
      "text/plain": [
       "[[1, 1, 0, 1, 1],\n",
       " [1, 0, 0, 0, 1],\n",
       " [1, 0, 0, 0, 1],\n",
       " [1, 0, 0, 0, 1],\n",
       " [1, 1, 0, 1, 1]]"
      ]
     },
     "execution_count": 148,
     "metadata": {},
     "output_type": "execute_result"
    }
   ],
   "source": [
    "m.maze"
   ]
  },
  {
   "cell_type": "code",
   "execution_count": null,
   "metadata": {
    "collapsed": true
   },
   "outputs": [],
   "source": []
  },
  {
   "cell_type": "code",
   "execution_count": null,
   "metadata": {
    "collapsed": true
   },
   "outputs": [],
   "source": []
  },
  {
   "cell_type": "code",
   "execution_count": 139,
   "metadata": {
    "collapsed": true
   },
   "outputs": [],
   "source": [
    "v = m.exit"
   ]
  },
  {
   "cell_type": "code",
   "execution_count": 138,
   "metadata": {},
   "outputs": [
    {
     "data": {
      "text/plain": [
       "__main__.Vertex"
      ]
     },
     "execution_count": 138,
     "metadata": {},
     "output_type": "execute_result"
    }
   ],
   "source": [
    "type(m.exit.prev.prev)"
   ]
  },
  {
   "cell_type": "code",
   "execution_count": null,
   "metadata": {
    "collapsed": true
   },
   "outputs": [],
   "source": []
  },
  {
   "cell_type": "code",
   "execution_count": null,
   "metadata": {
    "collapsed": true
   },
   "outputs": [],
   "source": []
  },
  {
   "cell_type": "code",
   "execution_count": 112,
   "metadata": {},
   "outputs": [
    {
     "data": {
      "text/plain": [
       "17"
      ]
     },
     "execution_count": 112,
     "metadata": {},
     "output_type": "execute_result"
    }
   ],
   "source": [
    "a.rank"
   ]
  },
  {
   "cell_type": "code",
   "execution_count": 113,
   "metadata": {},
   "outputs": [
    {
     "name": "stdout",
     "output_type": "stream",
     "text": [
      "[None, None, None, None, None, None, None, None, None, None, None, None, None, None, None, None, None, None, None, None, None, None, None, None, None, None, None, None, None, None, None, None, None, None, None, None, None, None, None, None, None, None, None, None, None, None, None, None, None, None, None, None, None, None, None, None, None, None, None, None, None, None, None, None, None, None, None, None, None, None, None, None, None, None, None, None, None, None, None, None, None, None, None, None, None, None, None, None, None, None, None, None, None, None, None, None, None, None, None, None]\n",
      "Top: -1\n",
      "numElems: 0\n"
     ]
    }
   ],
   "source": [
    "print(stack)"
   ]
  },
  {
   "cell_type": "code",
   "execution_count": 94,
   "metadata": {
    "collapsed": true
   },
   "outputs": [],
   "source": [
    "current.prev"
   ]
  },
  {
   "cell_type": "code",
   "execution_count": null,
   "metadata": {
    "collapsed": true
   },
   "outputs": [],
   "source": []
  },
  {
   "cell_type": "code",
   "execution_count": 80,
   "metadata": {
    "collapsed": true
   },
   "outputs": [],
   "source": [
    "stack = Stack(size=3)"
   ]
  },
  {
   "cell_type": "code",
   "execution_count": 84,
   "metadata": {
    "collapsed": true
   },
   "outputs": [],
   "source": [
    "stack.push(m.start)"
   ]
  },
  {
   "cell_type": "code",
   "execution_count": 86,
   "metadata": {
    "collapsed": true
   },
   "outputs": [],
   "source": [
    "current = stack.pop()"
   ]
  },
  {
   "cell_type": "code",
   "execution_count": 90,
   "metadata": {},
   "outputs": [
    {
     "data": {
      "text/plain": [
       "False"
      ]
     },
     "execution_count": 90,
     "metadata": {},
     "output_type": "execute_result"
    }
   ],
   "source": [
    "current.visited"
   ]
  },
  {
   "cell_type": "code",
   "execution_count": 91,
   "metadata": {},
   "outputs": [
    {
     "data": {
      "text/plain": [
       "[7]"
      ]
     },
     "execution_count": 91,
     "metadata": {},
     "output_type": "execute_result"
    }
   ],
   "source": [
    "current.neigh"
   ]
  },
  {
   "cell_type": "code",
   "execution_count": 116,
   "metadata": {
    "collapsed": true
   },
   "outputs": [],
   "source": [
    "m = Maze(0, verbosity=True)"
   ]
  },
  {
   "cell_type": "code",
   "execution_count": 53,
   "metadata": {
    "collapsed": true
   },
   "outputs": [],
   "source": [
    "m.start.prev"
   ]
  },
  {
   "cell_type": "code",
   "execution_count": 33,
   "metadata": {},
   "outputs": [
    {
     "data": {
      "text/plain": [
       "22"
      ]
     },
     "execution_count": 33,
     "metadata": {},
     "output_type": "execute_result"
    }
   ],
   "source": [
    "m.exit"
   ]
  },
  {
   "cell_type": "code",
   "execution_count": 39,
   "metadata": {},
   "outputs": [
    {
     "data": {
      "text/plain": [
       "[[1, 1, 0, 1, 1],\n",
       " [1, 0, 0, 0, 1],\n",
       " [1, 0, 1, 1, 1],\n",
       " [1, 0, 0, 0, 1],\n",
       " [1, 1, 0, 1, 1]]"
      ]
     },
     "execution_count": 39,
     "metadata": {},
     "output_type": "execute_result"
    }
   ],
   "source": [
    "m.maze"
   ]
  },
  {
   "cell_type": "code",
   "execution_count": 41,
   "metadata": {},
   "outputs": [
    {
     "data": {
      "text/plain": [
       "[[0, 0, 0, 0, 0, 0, 0, 0, 0, 0, 0, 0, 0, 0, 0, 0, 0, 0, 0, 0, 0, 0, 0, 0, 0],\n",
       " [0, 0, 0, 0, 0, 0, 0, 0, 0, 0, 0, 0, 0, 0, 0, 0, 0, 0, 0, 0, 0, 0, 0, 0, 0],\n",
       " [0, 0, 0, 0, 0, 0, 0, 1, 0, 0, 0, 0, 0, 0, 0, 0, 0, 0, 0, 0, 0, 0, 0, 0, 0],\n",
       " [0, 0, 0, 0, 0, 0, 0, 0, 0, 0, 0, 0, 0, 0, 0, 0, 0, 0, 0, 0, 0, 0, 0, 0, 0],\n",
       " [0, 0, 0, 0, 0, 0, 0, 0, 0, 0, 0, 0, 0, 0, 0, 0, 0, 0, 0, 0, 0, 0, 0, 0, 0],\n",
       " [0, 0, 0, 0, 0, 0, 0, 0, 0, 0, 0, 0, 0, 0, 0, 0, 0, 0, 0, 0, 0, 0, 0, 0, 0],\n",
       " [0, 0, 0, 0, 0, 0, 0, 1, 0, 0, 0, 1, 0, 0, 0, 0, 0, 0, 0, 0, 0, 0, 0, 0, 0],\n",
       " [0, 0, 1, 0, 0, 0, 1, 0, 1, 0, 0, 0, 1, 0, 0, 0, 0, 0, 0, 0, 0, 0, 0, 0, 0],\n",
       " [0, 0, 0, 0, 0, 0, 0, 1, 0, 0, 0, 0, 0, 1, 0, 0, 0, 0, 0, 0, 0, 0, 0, 0, 0],\n",
       " [0, 0, 0, 0, 0, 0, 0, 0, 0, 0, 0, 0, 0, 0, 0, 0, 0, 0, 0, 0, 0, 0, 0, 0, 0],\n",
       " [0, 0, 0, 0, 0, 0, 0, 0, 0, 0, 0, 0, 0, 0, 0, 0, 0, 0, 0, 0, 0, 0, 0, 0, 0],\n",
       " [0, 0, 0, 0, 0, 0, 1, 0, 0, 0, 0, 0, 1, 0, 0, 0, 1, 0, 0, 0, 0, 0, 0, 0, 0],\n",
       " [0, 0, 0, 0, 0, 0, 0, 1, 0, 0, 0, 1, 0, 1, 0, 0, 0, 1, 0, 0, 0, 0, 0, 0, 0],\n",
       " [0, 0, 0, 0, 0, 0, 0, 0, 1, 0, 0, 0, 1, 0, 0, 0, 0, 0, 1, 0, 0, 0, 0, 0, 0],\n",
       " [0, 0, 0, 0, 0, 0, 0, 0, 0, 0, 0, 0, 0, 0, 0, 0, 0, 0, 0, 0, 0, 0, 0, 0, 0],\n",
       " [0, 0, 0, 0, 0, 0, 0, 0, 0, 0, 0, 0, 0, 0, 0, 0, 0, 0, 0, 0, 0, 0, 0, 0, 0],\n",
       " [0, 0, 0, 0, 0, 0, 0, 0, 0, 0, 0, 1, 0, 0, 0, 0, 0, 1, 0, 0, 0, 0, 0, 0, 0],\n",
       " [0, 0, 0, 0, 0, 0, 0, 0, 0, 0, 0, 0, 1, 0, 0, 0, 1, 0, 1, 0, 0, 0, 1, 0, 0],\n",
       " [0, 0, 0, 0, 0, 0, 0, 0, 0, 0, 0, 0, 0, 1, 0, 0, 0, 1, 0, 0, 0, 0, 0, 0, 0],\n",
       " [0, 0, 0, 0, 0, 0, 0, 0, 0, 0, 0, 0, 0, 0, 0, 0, 0, 0, 0, 0, 0, 0, 0, 0, 0],\n",
       " [0, 0, 0, 0, 0, 0, 0, 0, 0, 0, 0, 0, 0, 0, 0, 0, 0, 0, 0, 0, 0, 0, 0, 0, 0],\n",
       " [0, 0, 0, 0, 0, 0, 0, 0, 0, 0, 0, 0, 0, 0, 0, 0, 0, 0, 0, 0, 0, 0, 0, 0, 0],\n",
       " [0, 0, 0, 0, 0, 0, 0, 0, 0, 0, 0, 0, 0, 0, 0, 0, 0, 1, 0, 0, 0, 0, 0, 0, 0],\n",
       " [0, 0, 0, 0, 0, 0, 0, 0, 0, 0, 0, 0, 0, 0, 0, 0, 0, 0, 0, 0, 0, 0, 0, 0, 0],\n",
       " [0, 0, 0, 0, 0, 0, 0, 0, 0, 0, 0, 0, 0, 0, 0, 0, 0, 0, 0, 0, 0, 0, 0, 0, 0]]"
      ]
     },
     "execution_count": 41,
     "metadata": {},
     "output_type": "execute_result"
    }
   ],
   "source": [
    "m.adjMat"
   ]
  },
  {
   "cell_type": "code",
   "execution_count": 79,
   "metadata": {},
   "outputs": [
    {
     "name": "stdout",
     "output_type": "stream",
     "text": [
      "\n",
      "MAZE SOLVED!!!\n",
      "\n",
      "\n"
     ]
    }
   ],
   "source": [
    "print(m)"
   ]
  },
  {
   "cell_type": "code",
   "execution_count": 80,
   "metadata": {},
   "outputs": [
    {
     "name": "stdout",
     "output_type": "stream",
     "text": [
      "\n",
      "MAZE SOLVED!!!\n",
      "\n"
     ]
    },
    {
     "data": {
      "text/plain": [
       "<bound method Maze.printMat of >"
      ]
     },
     "execution_count": 80,
     "metadata": {},
     "output_type": "execute_result"
    }
   ],
   "source": [
    "m.printMat"
   ]
  },
  {
   "cell_type": "markdown",
   "metadata": {},
   "source": [
    "m.maze[0"
   ]
  },
  {
   "cell_type": "code",
   "execution_count": 39,
   "metadata": {},
   "outputs": [
    {
     "data": {
      "text/plain": [
       "[1, 1, 0, 1, 1]"
      ]
     },
     "execution_count": 39,
     "metadata": {},
     "output_type": "execute_result"
    }
   ],
   "source": [
    "m.maze[0]"
   ]
  },
  {
   "cell_type": "code",
   "execution_count": 40,
   "metadata": {},
   "outputs": [
    {
     "data": {
      "text/plain": [
       "5"
      ]
     },
     "execution_count": 40,
     "metadata": {},
     "output_type": "execute_result"
    }
   ],
   "source": [
    "len(m.maze)"
   ]
  },
  {
   "cell_type": "code",
   "execution_count": 33,
   "metadata": {
    "collapsed": true
   },
   "outputs": [],
   "source": [
    "m = Maze(0,verbosity)"
   ]
  },
  {
   "cell_type": "code",
   "execution_count": 34,
   "metadata": {},
   "outputs": [
    {
     "name": "stdout",
     "output_type": "stream",
     "text": [
      "0 <class '__main__.Vertex'> None False\n",
      "1 <class '__main__.Vertex'> None False\n",
      "2 <class '__main__.Vertex'> None False\n",
      "3 <class '__main__.Vertex'> None False\n",
      "4 <class '__main__.Vertex'> None False\n",
      "5 <class '__main__.Vertex'> None False\n",
      "6 <class '__main__.Vertex'> None False\n",
      "7 <class '__main__.Vertex'> None False\n",
      "8 <class '__main__.Vertex'> None False\n",
      "9 <class '__main__.Vertex'> None False\n",
      "10 <class '__main__.Vertex'> None False\n",
      "11 <class '__main__.Vertex'> None False\n",
      "12 <class '__main__.Vertex'> None False\n",
      "13 <class '__main__.Vertex'> None False\n",
      "14 <class '__main__.Vertex'> None False\n",
      "15 <class '__main__.Vertex'> None False\n",
      "16 <class '__main__.Vertex'> None False\n",
      "17 <class '__main__.Vertex'> None False\n",
      "18 <class '__main__.Vertex'> None False\n",
      "19 <class '__main__.Vertex'> None False\n",
      "20 <class '__main__.Vertex'> None False\n",
      "21 <class '__main__.Vertex'> None False\n",
      "22 <class '__main__.Vertex'> None False\n",
      "23 <class '__main__.Vertex'> None False\n",
      "24 <class '__main__.Vertex'> None False\n"
     ]
    }
   ],
   "source": [
    "for v in m.adjList:\n",
    "    print(v, type(v), v.prev, v.visited)"
   ]
  },
  {
   "cell_type": "code",
   "execution_count": null,
   "metadata": {
    "collapsed": true
   },
   "outputs": [],
   "source": []
  }
 ],
 "metadata": {
  "kernelspec": {
   "display_name": "Python 3",
   "language": "python",
   "name": "python3"
  },
  "language_info": {
   "codemirror_mode": {
    "name": "ipython",
    "version": 3
   },
   "file_extension": ".py",
   "mimetype": "text/x-python",
   "name": "python",
   "nbconvert_exporter": "python",
   "pygments_lexer": "ipython3",
   "version": "3.6.1"
  }
 },
 "nbformat": 4,
 "nbformat_minor": 2
}
