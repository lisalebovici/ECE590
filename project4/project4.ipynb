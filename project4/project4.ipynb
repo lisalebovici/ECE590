{
 "cells": [
  {
   "cell_type": "code",
   "execution_count": 1,
   "metadata": {},
   "outputs": [],
   "source": [
    "import math"
   ]
  },
  {
   "cell_type": "code",
   "execution_count": 16,
   "metadata": {},
   "outputs": [],
   "source": [
    "\"\"\"\n",
    "Map Class\n",
    "\"\"\"\n",
    "class Map:\n",
    "\n",
    "    \"\"\"\n",
    "    Class attributes:\n",
    "    adjMat   # The adjacency matrix storing edge weights.\n",
    "    cities   # The list of city names.\n",
    "    adjList  # The adjacency list of vertices.\n",
    "    edgeList # The list of edges (edge objects).\n",
    "    start    # The starting vertex of the tour.\n",
    "    MSTalg   # Either 'Prim' or 'Kruskal'.\n",
    "    mst      # The edges in the MST.\n",
    "    tour     # The TSP tour (list of vertex ranks).\n",
    "    optTour  # A string displaying the optimal tour.\n",
    "    \"\"\"\n",
    "\n",
    "    \"\"\"\n",
    "    __init__ function to initialize the map.\n",
    "    \n",
    "    INPUTS:\n",
    "    mapNum: The number of the map to use.\n",
    "    \"\"\"\n",
    "    def __init__(self, mapNum=0, MSTalg='Prim'):\n",
    "        # Get the adjMat, cities, and optTour using mapNum.\n",
    "        self.adjMat, self.cities, self.optTour = getMap(mapNum)\n",
    "\n",
    "        # Create the adjList of vertices\n",
    "        self.adjList = []\n",
    "        for rank in range(0,len(self.cities)):\n",
    "            v = Vertex(rank)\n",
    "            self.adjList.append(v)\n",
    "\n",
    "        # Create the list of edges and fill the vertex.neigh values.\n",
    "        # Fill in the cities while we are at it.\n",
    "        self.edgeList = []\n",
    "        for r1 in range(0,len(self.adjMat)):\n",
    "            v1 = self.adjList[r1]\n",
    "            v1.city = self.cities[r1]\n",
    "            for r2 in range(r1+1,len(self.adjMat[r1])):\n",
    "                if self.adjMat[r1][r2] != 0:\n",
    "                    v2 = self.adjList[r2]\n",
    "                    v1.neigh.append(v2)\n",
    "                    v2.neigh.append(v1)\n",
    "                    e = Edge(v1,v2,self.adjMat[r1][r2])\n",
    "                    self.edgeList.append(e)\n",
    "\n",
    "        # Sort the edges.\n",
    "        self.edgeList.sort()\n",
    "\n",
    "        # Set start to the 0 ranked vertex (the first city).\n",
    "        self.start = self.adjList[0]\n",
    "\n",
    "        # Set the MSTalg.\n",
    "        self.MSTalg = MSTalg\n",
    "\n",
    "        # Empty MST initially.\n",
    "        self.mst = []\n",
    "\n",
    "        # Empty tour initially.\n",
    "        self.tour = []\n",
    "        return\n",
    "    \n",
    "    \"\"\"\n",
    "    __repr__ function to print a map.\n",
    "    \"\"\"\n",
    "    def __repr__(self):\n",
    "        # First the MST edges.\n",
    "        s = ''\n",
    "        s += '\\nMST Edges:\\n'\n",
    "        w = 0\n",
    "        for e in self.mst:\n",
    "            s += repr(e) +'\\n'\n",
    "            w += e.weight\n",
    "        s += '\\nMST Weight:\\n%f\\n' % w\n",
    "        \n",
    "\n",
    "        # Now the tour.\n",
    "        s += '\\nTSP Approx. Tour:\\n'\n",
    "        w = 0\n",
    "        if len(self.tour) > 0:\n",
    "            for r in range(0,len(self.tour)-1):\n",
    "                s += self.cities[self.tour[r]] + '\\n'\n",
    "                w += self.adjMat[self.tour[r]][self.tour[r+1]]\n",
    "            s += self.cities[self.tour[0]] + '\\n'\n",
    "        else:\n",
    "            w = math.inf\n",
    "        s += '\\nTSP Approx. Tour Weight:\\n%f\\n' % w\n",
    "\n",
    "        # Now the optimal tour.\n",
    "        s += self.optTour\n",
    "\n",
    "        # Return the repr string.\n",
    "        return s\n",
    "\n",
    "    \"\"\"\n",
    "    printList function for cleanly printing the adjaceny list.\n",
    "    Note: skips vertices with no neighbors.\n",
    "    \"\"\"\n",
    "    def printList(self):\n",
    "        for vertex in self.adjList:\n",
    "            if len(vertex.neigh) > 0:\n",
    "                print('Rank: %d' % vertex.rank)\n",
    "                print('Neighbors:')\n",
    "                print(vertex.neigh)\n",
    "                print('')\n",
    "        return\n",
    "\n",
    "    \"\"\"\n",
    "    printMat function for cleanly printing the adjaceny matrix.\n",
    "    Note: for the larger matrices, this will still likely be hard to read.\n",
    "    \"\"\"\n",
    "    def printMat(self):\n",
    "        for row in self.adjMat:\n",
    "            print(row)\n",
    "        return\n",
    "\n",
    "    \"\"\"\n",
    "    printEdges function prints the edge list of the Map.\n",
    "    \"\"\"\n",
    "    def printEdges(self):\n",
    "        s = 'Edge List:\\n'\n",
    "        for e in self.edgeList:\n",
    "            s += repr(e) +'\\n'\n",
    "        print(s)\n",
    "        return\n",
    "\n",
    "    \"\"\"\n",
    "    getMST: uses MSTalg to get the MST and fill in the edges\n",
    "    \"\"\"\n",
    "    def getMST(self):\n",
    "        if self.MSTalg == 'Prim':\n",
    "            # Call Prim's on the adjList and adjMat.\n",
    "            # This should update all of the vertices' prev values.\n",
    "            prim(self.adjList, self.adjMat)\n",
    "\n",
    "            # Now that we've set all of the prev values, go through each vertex\n",
    "            # and update its mstN list.\n",
    "            for v in self.adjList:\n",
    "                if not v.prev is None:\n",
    "                    v.mstN.append(v.prev)\n",
    "                    v.prev.mstN.append(v)\n",
    "\n",
    "            # Loop through the vertices and add the MST edges.\n",
    "            for rank in range(0,len(self.adjList)):\n",
    "                v = self.adjList[rank]\n",
    "                for neighbor in v.mstN:\n",
    "                    if neighbor.rank > rank:\n",
    "                        e = Edge(v,neighbor,self.adjMat[rank][neighbor.rank])\n",
    "                        self.mst.append(e)\n",
    "            return\n",
    "        \n",
    "        elif self.MSTalg == 'Kruskal':\n",
    "            # Call Kruskal's on the adjList and edgeList.\n",
    "            # This will return the mst edges.\n",
    "            self.mst = kruskal(self.adjList,self.edgeList)\n",
    "\n",
    "            # Now that the MST is set, loop through the edges and update the\n",
    "            # mstN values for the vertices.\n",
    "            for e in self.mst:\n",
    "                u = e.vertices[0]\n",
    "                v = e.vertices[1]\n",
    "                u.mstN.append(v)\n",
    "                v.mstN.append(u)\n",
    "            return\n",
    "        else:\n",
    "            raise Exception('Not a valid MST alg.')\n",
    "\n",
    "    \"\"\"\n",
    "    getTSP: uses the MST to find the approximate solution to TSP.\n",
    "    \"\"\"\n",
    "    def getTSP(self):\n",
    "        if len(self.mst) > 0:\n",
    "            self.tour = tsp(self.adjList, self.start)\n",
    "        else:\n",
    "            raise Exception('No MST set!')\n",
    "        return\n",
    "\n",
    "    \"\"\"\n",
    "    clearMap: this function will reset the MST and tour for the map, along with\n",
    "              all vertex info.\n",
    "    \"\"\"\n",
    "    def clearMap(self):\n",
    "        # Create the adjList of vertices\n",
    "        self.adjList = []\n",
    "        for rank in range(0,len(self.cities)):\n",
    "            v = Vertex(rank)\n",
    "            self.adjList.append(v)\n",
    "\n",
    "        # Create the list of edges and fill the vertex.neigh values.\n",
    "        # Fill in the cities while we are at it.\n",
    "        self.edgeList = []\n",
    "        for r1 in range(0,len(self.adjMat)):\n",
    "            v1 = self.adjList[r1]\n",
    "            v1.city = self.cities[r1]\n",
    "            for r2 in range(r1+1,len(self.adjMat[r1])):\n",
    "                if self.adjMat[r1][r2] != 0:\n",
    "                    v2 = self.adjList[r2]\n",
    "                    v1.neigh.append(v2)\n",
    "                    v2.neigh.append(v1)\n",
    "                    e = Edge(v1,v2,self.adjMat[r1][r2])\n",
    "                    self.edgeList.append(e)\n",
    "\n",
    "        # Sort the edges.\n",
    "        self.edgeList.sort()\n",
    "\n",
    "        # Set start to the 0 ranked vertex (the first city).\n",
    "        self.start = self.adjList[0]\n",
    "\n",
    "        # Empty MST initially.\n",
    "        self.mst = []\n",
    "\n",
    "        # Empty tour initially.\n",
    "        self.tour = []\n",
    "\n",
    "################################################################################\n",
    "\n",
    "\"\"\"\n",
    "getMap\n",
    "\n",
    "This function will return the adjacency matrix and city names for the map.\n",
    "\n",
    "INPUTS\n",
    "mapNum: the number of which map to select.\n",
    "\n",
    "OUTPUTS\n",
    "adjMat:   the adjacency matrix.\n",
    "cityList: the list of the cities.\n",
    "\"\"\"\n",
    "def getMap(mapNum=0):\n",
    "    \n",
    "    if mapNum == 0:\n",
    "        cityList = ['a','b','c','d']\n",
    "        adjMat = [[0,2,8,5],\\\n",
    "                  [2,0,7,4],\\\n",
    "                  [8,7,0,6],\\\n",
    "                  [5,4,6,0]]\n",
    "        optTour = '\\nOptimal Tour:' + \\\n",
    "                  '\\na\\nb\\nc\\nd\\na\\n\\nWeight of Optimal Tour:\\n20'\n",
    "        return adjMat, cityList, optTour\n",
    "        \n",
    "    elif mapNum == 1:\n",
    "        cityList = ['a','b','c','d']\n",
    "        adjMat = [[0,2,2,3],\\\n",
    "                  [2,0,3,2],\\\n",
    "                  [2,3,0,2],\\\n",
    "                  [3,2,2,0]]\n",
    "        optTour = '\\nOptimal Tour:' + \\\n",
    "                  '\\na\\nb\\nd\\nc\\na\\n\\nWeight of Optimal Tour:\\n8'\n",
    "        return adjMat, cityList, optTour\n",
    "\n",
    "        \n",
    "    elif mapNum == 2:\n",
    "        cityList = ['NYC','Urbandale','Chicago','Durham','LA','Seattle',\\\n",
    "                    'Washington DC']\n",
    "        lats = [40.71,41.63,41.88,35.99,34.05,47.61,38.91]\n",
    "        longs = [74.01,93.71,87.63,78.90,118.24,122.33,77.04]\n",
    "        optTour = '\\nOptimal Tour:\\nNYC\\nChicago\\nUrbandale\\nSeattle\\nLA' + \\\n",
    "                  '\\nDurham\\nWashington DC\\nNYC\\n\\nWeight of Optimal ' + \\\n",
    "                  'Tour:\\n9796'\n",
    "        \n",
    "    elif mapNum == 3:\n",
    "        cityList = ['London','Paris','Madrid','Rome','Berlin','Istanbul',\\\n",
    "                    'Moscow','Athens','Copenhagen']\n",
    "        lats = [51.51,48.86,40.42,41.90,52.52,41.01,55.76,37.98,55.68]\n",
    "        longs = [0.13,-2.35,3.70,-12.50,-13.41,-28.98,-37.62,-23.73,-12.57]\n",
    "        optTour = '\\nOptimal Tour:\\nLondon\\nBerlin\\nCopenhagen\\nMoscow\\n' + \\\n",
    "                  'Istanbul\\nAthens\\nRome\\nMadrid\\nParis\\nLondon\\n\\nWeight ' + \\\n",
    "                  'of Optimal Tour:\\n8978'\n",
    "        \n",
    "    elif mapNum == 4:\n",
    "        cityList = ['NYC','Urbandale','Chicago','Durham','LA','Seattle',\\\n",
    "                    'Washington DC','Houston','Phoenix','Denver',\\\n",
    "                    'San Francisco','Honolulu','Boston','Cleveland']\n",
    "        lats = [40.71,41.63,41.88,35.99,34.05,47.61,38.91,\\\n",
    "                29.76,33.45,39.74,37.77,21.31,42.36,41.50]\n",
    "        longs = [74.01,93.71,87.63,78.90,118.24,122.33,77.04,\\\n",
    "                 95.37,112.07,104.99,122.42,157.86,71.06,81.69]\n",
    "        optTour = '\\nOptimal Tour: ?'\n",
    "        \n",
    "    elif mapNum == 5:\n",
    "        cityList = ['London','Paris','Madrid','Rome','Berlin','Istanbul',\\\n",
    "                    'Moscow','Athens','Copenhagen','Dublin','Warsaw',\\\n",
    "                    'Kiev']\n",
    "        lats = [51.51,48.86,40.42,41.90,52.52,41.01,55.76,37.98,55.68,\\\n",
    "                53.35,52.23,50.45]\n",
    "\n",
    "        longs = [0.13,-2.35,3.70,-12.50,-13.41,-28.98,-37.62,-23.73,-12.57,\\\n",
    "                 6.26,-21.01,-30.52]\n",
    "        optTour = '\\nOptimal Tour:\\nLondon\\nParis\\nMadrid\\nRome\\nAthens\\n' + \\\n",
    "                  'Istanbul\\nKiev\\nMoscow\\nWarsaw\\nBerlin\\nCopenhagen\\n' + \\\n",
    "                  'Dublin\\nLondon\\n\\nWeight of Optimal Tour:\\n9911'\n",
    "        \n",
    "    elif mapNum == 6:\n",
    "        cityList = ['London','Paris','Madrid','Rome','Berlin','Istanbul',\\\n",
    "                    'Moscow','Athens','Copenhagen','Dublin','Warsaw',\\\n",
    "                    'Kiev','St. Petersburg','Stockholm']\n",
    "        lats = [51.51,48.86,40.42,41.90,52.52,41.01,55.76,37.98,55.68,\\\n",
    "                53.35,52.23,50.45,59.93,59.33]\n",
    "        longs = [0.13,-2.35,3.70,-12.50,-13.41,-28.98,-37.62,-23.73,-12.57,\\\n",
    "                 6.26,-21.01,-30.52,-30.34,-18.07]\n",
    "        optTour = '\\nOptimal Tour: ?'\n",
    "\n",
    "    elif mapNum == 7:\n",
    "        N = 75\n",
    "        cityList = []\n",
    "        lats = []\n",
    "        longs = []\n",
    "        lab = 0\n",
    "        for ind in range(0,N+1):\n",
    "            cityList.append(str(lab))\n",
    "            lats.append(ind*180/N-90)\n",
    "            longs.append(-10)\n",
    "            lab += 1\n",
    "        for ind in range(1,N-1):\n",
    "            cityList.append(str(lab))\n",
    "            lats.append(90-ind*180/N)\n",
    "            longs.append(170)\n",
    "            lab += 1\n",
    "        antiPolar = -(lats[0]+lats[-1])/2\n",
    "        lats.append(antiPolar)\n",
    "        longs.append(-10)\n",
    "        cityList.append(str(lab))\n",
    "        optTour = '\\nOptimal Tour: 40030.173592'\n",
    "\n",
    "    elif mapNum == 8:\n",
    "        N = 75\n",
    "        cityList = []\n",
    "        lats = []\n",
    "        longs = []\n",
    "        lab = 0\n",
    "        for ind in range(0,N+1):\n",
    "            cityList.append(str(lab))\n",
    "            lats.append(ind*180/N-90)\n",
    "            longs.append(-10)\n",
    "            lab += 1\n",
    "        for ind in range(1,N-1):\n",
    "            cityList.append(str(lab))\n",
    "            lats.append(90-ind*180/N)\n",
    "            longs.append(170)\n",
    "            lab += 1\n",
    "        antiPolar = -(lats[0]+lats[-1])/2\n",
    "        lats.insert(0,antiPolar)\n",
    "        longs.insert(0,-10)\n",
    "        cityList.insert(0,str(lab))\n",
    "        optTour = '\\nOptimal Tour: 40030.173592'\n",
    "        \n",
    "    else:\n",
    "        raise Exception('Not a valid map number.')\n",
    "\n",
    "    # Get the distances and insert into the adjacency matrix.\n",
    "    adjMat = [[0 for x in range(0,len(cityList))] \\\n",
    "              for x in range(0,len(cityList))]\n",
    "    for r in range(0,len(adjMat)):\n",
    "        for c in range(r+1,len(adjMat[r])):\n",
    "            adjMat[r][c] = getDist(lats[r],longs[r],lats[c],longs[c])\n",
    "            adjMat[c][r] = adjMat[r][c]\n",
    "        adjMat[r][r] = 0\n",
    "    \n",
    "    return adjMat, cityList, optTour\n",
    "\n",
    "################################################################################\n",
    "\n",
    "\"\"\"\n",
    "getDist\n",
    "\n",
    "This function takes in two coordinates and returns the distance between them\n",
    "(in kilometers).\n",
    "\n",
    "INPUTS\n",
    "lat1, long1: the latitude and longitude of the first city.\n",
    "lat2, long2: the latitude and longitude of the second city.\n",
    "\n",
    "OUTPUTS\n",
    "dist: the distance between the two cities (km).\n",
    "\"\"\"\n",
    "def getDist(lat1,long1,lat2,long2):\n",
    "    # Convert to radians.\n",
    "    lat1 = lat1*math.pi/180\n",
    "    long1 = long1*math.pi/180\n",
    "    lat2 = lat2*math.pi/180\n",
    "    long2 = long2*math.pi/180\n",
    "\n",
    "    # Calculate the change in lat and long.\n",
    "    dLat = lat2 - lat1\n",
    "    dLong = long2 - long1\n",
    "\n",
    "    # Set the radius of the Earth.\n",
    "    R = 6371 # km\n",
    "\n",
    "    # Calculate the distance using the formula for distance on a great circle.\n",
    "    a = math.sin(dLat/2)**2 \\\n",
    "        + \\\n",
    "        ( \\\n",
    "          math.cos(lat1)*math.cos(lat2) \\\n",
    "          * \\\n",
    "          math.sin(dLong/2)**2 \\\n",
    "        )\n",
    "    if abs(a) < 1e-15: a = 0\n",
    "    if abs(1-a) < 1e-15: a = 1\n",
    "    c = 2*math.atan2(math.sqrt(a), math.sqrt(1-a))\n",
    "    dist = R*c\n",
    "    return dist # km\n",
    "\n",
    "################################################################################\n",
    "\n",
    "\"\"\"\n",
    "testMaps\n",
    "\n",
    "This function will test your code on the various maps using the input alg.\n",
    "\n",
    "INPUTS\n",
    "alg: 'Prim' or 'Kruskal'\n",
    "\n",
    "OUTPUTS\n",
    "s: a string indicating number of tests passed.\n",
    "\"\"\"\n",
    "def testMaps(alg):\n",
    "    Mpass = 0\n",
    "    Tpass = 0\n",
    "    Mflag = False\n",
    "    Tflag = False\n",
    "    t = 9\n",
    "    tol = 1e-6\n",
    "    \n",
    "    # Test maps.\n",
    "    MSTws = [12,6,5999.977279,6909.105275,11810.893206,7724.194671,\\\n",
    "             8813.919553,39763.305768,39763.305768]\n",
    "    for ind in range(0,t):\n",
    "        MSTw = MSTws[ind]\n",
    "        m = Map(ind,alg)\n",
    "        m.getMST()\n",
    "        if len(m.mst) < len(m.cities)-1:\n",
    "            print('Test %d: Not enough edges in MST.' % ind)\n",
    "            Mflag = True\n",
    "        if len(m.mst) > len(m.cities)-1:\n",
    "            print('Test %d: Too many edges in MST.' % ind)\n",
    "            Mflag = True\n",
    "        w = 0\n",
    "        for e in m.mst:\n",
    "            w += e.weight\n",
    "        if w < MSTw-tol:\n",
    "            print('Test %d: MST weight too low.' % ind)\n",
    "            Mflag = True\n",
    "        if w > MSTw+tol:\n",
    "            print('Test %d: MST weight too high.' % ind)\n",
    "            Mflag = True\n",
    "        if not Mflag:\n",
    "            m.getTSP()\n",
    "            w = 0\n",
    "            if len(m.tour) > 0:\n",
    "                for r in range(0,len(m.tour)-1):\n",
    "                    w += m.adjMat[m.tour[r]][m.tour[r+1]]\n",
    "            else:\n",
    "                w = math.inf\n",
    "            if len(m.tour) != len(m.cities)+1:\n",
    "                print('Test %d: TSP should be length %d.' % (ind,len(m.cities)+1))\n",
    "                Tflag = True\n",
    "            if w == math.inf:\n",
    "                print('Test %d: No TSP reported.' % ind)\n",
    "                Tflag = True\n",
    "            else:\n",
    "                if w > 2*MSTw+2*tol:\n",
    "                    print('Test %d: TSP too large.' % ind)\n",
    "                    Tflag = True\n",
    "                if w <= MSTw-tol:\n",
    "                    print('Test %d: TSP too small.' % ind)\n",
    "                    Tflag = True\n",
    "            if m.tour[0] != m.tour[-1]:\n",
    "                print('Test %d: TSP start != end.' % ind)\n",
    "                Tflag = True\n",
    "            for c in range(1,len(m.tour)):\n",
    "                city = m.tour[c]\n",
    "                if city in m.tour[c+1:]:\n",
    "                    print('Test %d: Repeated City in TSP.' % ind)\n",
    "                    Tflag = True\n",
    "            if ind == 7:\n",
    "                ans = 40030.173592\n",
    "                if (w < ans - tol) or (w > ans + tol):\n",
    "                    print('Test %d: Wrong TSP!' % ind)\n",
    "                    Tflag = True\n",
    "            if ind == 8:\n",
    "                ans = 79526.611536\n",
    "                if (w < ans - tol) or (w > ans + tol):\n",
    "                    print('Test %d: Wrong TSP!' % ind)\n",
    "                    Tflag = True\n",
    "        else:\n",
    "            Tflag = True\n",
    "        if not Mflag:\n",
    "            Mpass += 1\n",
    "        if not Tflag:\n",
    "            Tpass += 1\n",
    "\n",
    "    s = 'Passed %d/%d MST Tests and %d/%d TSP Tests for %s.' \\\n",
    "        % (Mpass,t,Tpass,t,alg)\n",
    "    return s"
   ]
  },
  {
   "cell_type": "code",
   "execution_count": null,
   "metadata": {},
   "outputs": [],
   "source": []
  },
  {
   "cell_type": "code",
   "execution_count": null,
   "metadata": {},
   "outputs": [],
   "source": []
  },
  {
   "cell_type": "code",
   "execution_count": 8,
   "metadata": {},
   "outputs": [],
   "source": [
    "\"\"\"\n",
    "Vertex Class\n",
    "\"\"\"\n",
    "class Vertex:\n",
    "\n",
    "    \"\"\"\n",
    "    Class attributes:\n",
    "    \n",
    "    rank    # The rank of this node.\n",
    "    neigh   # The list of neighbors IN THE ORIGINAL GRAPH.\n",
    "    mstN    # The list of neighbors IN THE MST.\n",
    "    visited # A flag for whether the vertex has been visited.\n",
    "    cost    # The cost of the edge out of the tree.\n",
    "    prev    # The previous vertex in the path.\n",
    "    pi      # The parent vertex in the disjoint set.\n",
    "    height  # The height of this vertex in the disjoint set.\n",
    "    city    # The name of the associated city.\n",
    "    \"\"\"\n",
    "\n",
    "    \"\"\"\n",
    "    __init__ function to initialize the vertex.\n",
    "    \"\"\"\n",
    "    def __init__(self, rank):\n",
    "\n",
    "        self.rank = rank     # Set the rank of this vertex.\n",
    "        self.neigh = []      # Set the input neighbors.\n",
    "        self.mstN = []       # Set the mst neighbors.\n",
    "        self.visited = False # Not yet visited.\n",
    "        self.cost = math.inf # Infinite cost initially.\n",
    "        self.prev = None     # No previous node on path yet.\n",
    "        self.pi = None       # No parent vertex yet.\n",
    "        self.height = 0      # 0 height initially.\n",
    "        self.city = ''       # No city initially.\n",
    "        return\n",
    "\n",
    "    \"\"\"\n",
    "    __repr__ function to print a vertex.\n",
    "    Note: only prints the city!\n",
    "    \"\"\"\n",
    "    def __repr__(self):\n",
    "        return '%s' % self.city\n",
    "\n",
    "    \"\"\"\n",
    "    isEqual function compares this Vertex to an input Vertex object.\n",
    "    Note: only needs to compare the rank!\n",
    "    \"\"\"\n",
    "    def isEqual(self,vertex):\n",
    "        return self.rank == vertex.rank\n",
    "    \n",
    "    \"\"\"\n",
    "    Overloaded comparison operators for priority queue.\n",
    "    Sorted by cost.\n",
    "    \"\"\"\n",
    "    def __lt__(self, other):\n",
    "        return self.cost < other.cost"
   ]
  },
  {
   "cell_type": "code",
   "execution_count": 9,
   "metadata": {},
   "outputs": [],
   "source": [
    "\"\"\"\n",
    "Edge Class\n",
    "\"\"\"\n",
    "class Edge:\n",
    "\n",
    "    \"\"\"\n",
    "    Class attributes:\n",
    "    \n",
    "    vertices # The list of vertices for this edge.\n",
    "    weight   # The weight of this edge.\n",
    "    \"\"\"\n",
    "\n",
    "    \"\"\"\n",
    "    __init__ function to initialize the edge.\n",
    "    \n",
    "    INPUTS:\n",
    "    vertex1 and vertex2: the vertices for the edge\n",
    "    weight: the weight of the edge\n",
    "    \"\"\"\n",
    "    def __init__(self, vertex1=None, vertex2=None, weight=math.inf):\n",
    "        self.vertices = [vertex1]+[vertex2]\n",
    "        self.weight = weight\n",
    "        return\n",
    "    \n",
    "    \"\"\"\n",
    "    __repr__ function to print an edge.\n",
    "    \"\"\"\n",
    "    def __repr__(self):\n",
    "        return '(%s,%s): %f' % (self.vertices[0].city, \\\n",
    "                                self.vertices[1].city, \\\n",
    "                                self.weight)\n",
    "\n",
    "    \"\"\"\n",
    "    Overloaded comparison operators for sorting by weight...\n",
    "    \"\"\"\n",
    "    def __lt__(self, other):\n",
    "        return self.weight < other.weight\n",
    "    def __le__(self, other):\n",
    "        return self.weight <= other.weight\n",
    "    def __eq__(self, other):\n",
    "        return self.weight == other.weight\n",
    "    def __ne__(self, other):\n",
    "        return self.weight != other.weight\n",
    "    def __gt__(self, other):\n",
    "        return self.weight > other.weight\n",
    "    def __ge__(self, other):\n",
    "        return self.weight >= other.weight"
   ]
  },
  {
   "cell_type": "code",
   "execution_count": null,
   "metadata": {},
   "outputs": [],
   "source": []
  },
  {
   "cell_type": "code",
   "execution_count": null,
   "metadata": {},
   "outputs": [],
   "source": []
  },
  {
   "cell_type": "code",
   "execution_count": 73,
   "metadata": {},
   "outputs": [],
   "source": [
    "\"\"\"\n",
    "Kruskal's Algorithm\n",
    "Note: the edgeList is ALREADY SORTED!\n",
    "Note: Use the isEqual method of the Vertex class when comparing vertices.\n",
    "\"\"\"\n",
    "def kruskal(adjList, edgeList):\n",
    "    # initialize all singleton sets for each vertex\n",
    "    for vertex in adjList:\n",
    "        makeset(vertex)\n",
    "    \n",
    "    # initialize the empty MST\n",
    "    X = []\n",
    "    \n",
    "    # loop through pre-sorted edges in increasing order\n",
    "    for e in edgeList:\n",
    "        # if the min edge crosses a cut, add it to our MST\n",
    "        u, v = e.vertices\n",
    "        if not find(u).isEqual(find(v)):\n",
    "            X.append(e)\n",
    "            union(u, v)\n",
    "        \n",
    "    return X"
   ]
  },
  {
   "cell_type": "code",
   "execution_count": 20,
   "metadata": {},
   "outputs": [],
   "source": [
    "\"\"\"\n",
    "makeset: this function will create a singleton set with root v.\n",
    "\"\"\"\n",
    "def makeset(v):\n",
    "    v.pi = v\n",
    "    v.height = 0\n",
    "    return"
   ]
  },
  {
   "cell_type": "code",
   "execution_count": 19,
   "metadata": {},
   "outputs": [],
   "source": [
    "\"\"\"\n",
    "find: this function will return the root of the set that contains v.\n",
    "Note: You should use path compression here.\n",
    "Note: Use the isEqual method of the Vertex class when comparing vertices.\n",
    "\"\"\"\n",
    "def find(v):\n",
    "    # if we are not at the root\n",
    "    if not v.isEqual(v.pi):\n",
    "        # set our parent to be the root,\n",
    "        # which is also the root of our parent\n",
    "        v.pi = find(v.pi)\n",
    "        \n",
    "    # return the root, which is now our parent\n",
    "    return v.pi"
   ]
  },
  {
   "cell_type": "code",
   "execution_count": 18,
   "metadata": {},
   "outputs": [],
   "source": [
    "\"\"\"\n",
    "union: this function will union the sets of vertices v and u.\n",
    "Note: Use the isEqual method of the Vertex class when comparing vertices.\n",
    "\"\"\"\n",
    "def union(u,v):\n",
    "    # first, find the root of the tree for u and the tree for v\n",
    "    ru = find(u)\n",
    "    rv = find(v)\n",
    "    \n",
    "    # if the sets are already the same, return\n",
    "    if ru.isEqual(rv):\n",
    "        return\n",
    "    \n",
    "    # make shorter set point to taller set\n",
    "    if ru.height > rv.height:\n",
    "        rv.pi = ru\n",
    "    elif ru.height < rv.height:\n",
    "        ru.pi = rv\n",
    "    else:\n",
    "        # same height, break tie\n",
    "        ru.pi = rv\n",
    "        \n",
    "        # tree got taller, increment rv.height\n",
    "        rv.height += 1\n",
    "    \n",
    "    return"
   ]
  },
  {
   "cell_type": "code",
   "execution_count": 189,
   "metadata": {},
   "outputs": [],
   "source": [
    "\"\"\"\n",
    "TSP\n",
    "\"\"\"\n",
    "def tsp(adjList, start):\n",
    "    for vertex in adjList:\n",
    "        vertex.visited = False\n",
    "\n",
    "    tour = []\n",
    "    stack = []\n",
    "    stack.append(start)\n",
    "\n",
    "    while stack:\n",
    "        current = stack.pop()\n",
    "        current.visited = True\n",
    "        tour.append(current.rank)\n",
    "\n",
    "        for neighbor in current.mstN:\n",
    "            if not neighbor.visited:\n",
    "                stack.append(neighbor)\n",
    "\n",
    "    tour.append(tour[0])\n",
    "    tour.reverse()\n",
    "\n",
    "    return tour"
   ]
  },
  {
   "cell_type": "code",
   "execution_count": 175,
   "metadata": {},
   "outputs": [
    {
     "data": {
      "text/plain": [
       "[0, 2, 3, 1, 0]"
      ]
     },
     "execution_count": 175,
     "metadata": {},
     "output_type": "execute_result"
    }
   ],
   "source": [
    "tsp(m.adjList, m.start)"
   ]
  },
  {
   "cell_type": "code",
   "execution_count": 169,
   "metadata": {},
   "outputs": [],
   "source": [
    "m.tour = []"
   ]
  },
  {
   "cell_type": "code",
   "execution_count": 117,
   "metadata": {},
   "outputs": [
    {
     "data": {
      "text/plain": [
       "[a, b, c, d]"
      ]
     },
     "execution_count": 117,
     "metadata": {},
     "output_type": "execute_result"
    }
   ],
   "source": [
    "m.adjList"
   ]
  },
  {
   "cell_type": "code",
   "execution_count": 118,
   "metadata": {},
   "outputs": [
    {
     "data": {
      "text/plain": [
       "a"
      ]
     },
     "execution_count": 118,
     "metadata": {},
     "output_type": "execute_result"
    }
   ],
   "source": [
    "m.start"
   ]
  },
  {
   "cell_type": "code",
   "execution_count": 160,
   "metadata": {},
   "outputs": [],
   "source": [
    "tour = []"
   ]
  },
  {
   "cell_type": "code",
   "execution_count": 161,
   "metadata": {},
   "outputs": [
    {
     "name": "stdout",
     "output_type": "stream",
     "text": [
      "0\n",
      "1\n",
      "3\n",
      "2\n"
     ]
    }
   ],
   "source": [
    "for vertex in m.adjList:\n",
    "    vertex.visited = False\n",
    "\n",
    "stack = []\n",
    "stack.append(m.start)\n",
    "\n",
    "while len(stack) > 0:\n",
    "    current = stack.pop()\n",
    "    print(current.rank)\n",
    "    current.visited = True\n",
    "    tour.append(current.rank)\n",
    "\n",
    "    for neighbor in current.mstN:\n",
    "        if not neighbor.visited:\n",
    "            stack.append(neighbor)\n",
    "\n",
    "tour.append(tour[0])\n",
    "tour.reverse()"
   ]
  },
  {
   "cell_type": "code",
   "execution_count": 162,
   "metadata": {},
   "outputs": [
    {
     "data": {
      "text/plain": [
       "[0, 2, 3, 1, 0]"
      ]
     },
     "execution_count": 162,
     "metadata": {},
     "output_type": "execute_result"
    }
   ],
   "source": [
    "tour"
   ]
  },
  {
   "cell_type": "code",
   "execution_count": 145,
   "metadata": {},
   "outputs": [],
   "source": [
    "tour.append(tour[0])"
   ]
  },
  {
   "cell_type": "code",
   "execution_count": 146,
   "metadata": {},
   "outputs": [
    {
     "data": {
      "text/plain": [
       "[a, b, d, c, a]"
      ]
     },
     "execution_count": 146,
     "metadata": {},
     "output_type": "execute_result"
    }
   ],
   "source": [
    "tour"
   ]
  },
  {
   "cell_type": "code",
   "execution_count": null,
   "metadata": {},
   "outputs": [],
   "source": []
  },
  {
   "cell_type": "code",
   "execution_count": 52,
   "metadata": {},
   "outputs": [],
   "source": []
  },
  {
   "cell_type": "code",
   "execution_count": 56,
   "metadata": {},
   "outputs": [],
   "source": [
    "adjMat, cities, optTour = getMap(0)\n",
    "\n",
    "# Create the adjList of vertices\n",
    "adjList = []\n",
    "for rank in range(0,len(cities)):\n",
    "    v = Vertex(rank)\n",
    "    adjList.append(v)\n",
    "\n",
    "# Create the list of edges and fill the vertex.neigh values.\n",
    "# Fill in the cities while we are at it.\n",
    "edgeList = []\n",
    "for r1 in range(0,len(adjMat)):\n",
    "    v1 = adjList[r1]\n",
    "    v1.city = cities[r1]\n",
    "    for r2 in range(r1+1,len(adjMat[r1])):\n",
    "        if adjMat[r1][r2] != 0:\n",
    "            v2 = adjList[r2]\n",
    "            v1.neigh.append(v2)\n",
    "            v2.neigh.append(v1)\n",
    "            e = Edge(v1,v2,adjMat[r1][r2])\n",
    "            edgeList.append(e)\n",
    "\n",
    "# Sort the edges.\n",
    "edgeList.sort()\n",
    "\n",
    "# Set start to the 0 ranked vertex (the first city).\n",
    "start = adjList[0]"
   ]
  },
  {
   "cell_type": "code",
   "execution_count": 57,
   "metadata": {},
   "outputs": [
    {
     "data": {
      "text/plain": [
       "[a, b, c, d]"
      ]
     },
     "execution_count": 57,
     "metadata": {},
     "output_type": "execute_result"
    }
   ],
   "source": [
    "adjList"
   ]
  },
  {
   "cell_type": "code",
   "execution_count": 64,
   "metadata": {},
   "outputs": [
    {
     "data": {
      "text/plain": [
       "2"
      ]
     },
     "execution_count": 64,
     "metadata": {},
     "output_type": "execute_result"
    }
   ],
   "source": [
    "(edgeList[0]).weight"
   ]
  },
  {
   "cell_type": "code",
   "execution_count": 71,
   "metadata": {},
   "outputs": [],
   "source": [
    "m = Map(mapNum=0, MSTalg='Kruskal')"
   ]
  },
  {
   "cell_type": "code",
   "execution_count": 74,
   "metadata": {},
   "outputs": [],
   "source": [
    "m.getMST()"
   ]
  },
  {
   "cell_type": "code",
   "execution_count": 75,
   "metadata": {},
   "outputs": [
    {
     "data": {
      "text/plain": [
       "[(a,b): 2.000000, (b,d): 4.000000, (c,d): 6.000000]"
      ]
     },
     "execution_count": 75,
     "metadata": {},
     "output_type": "execute_result"
    }
   ],
   "source": [
    "m.mst"
   ]
  },
  {
   "cell_type": "code",
   "execution_count": 78,
   "metadata": {},
   "outputs": [
    {
     "data": {
      "text/plain": [
       "a"
      ]
     },
     "execution_count": 78,
     "metadata": {},
     "output_type": "execute_result"
    }
   ],
   "source": [
    "m.start"
   ]
  },
  {
   "cell_type": "code",
   "execution_count": 79,
   "metadata": {},
   "outputs": [
    {
     "data": {
      "text/plain": [
       "[a, b, c, d]"
      ]
     },
     "execution_count": 79,
     "metadata": {},
     "output_type": "execute_result"
    }
   ],
   "source": [
    "m.adjList"
   ]
  },
  {
   "cell_type": "code",
   "execution_count": 80,
   "metadata": {},
   "outputs": [
    {
     "data": {
      "text/plain": [
       "3"
      ]
     },
     "execution_count": 80,
     "metadata": {},
     "output_type": "execute_result"
    }
   ],
   "source": [
    "len(m.mst)"
   ]
  },
  {
   "cell_type": "code",
   "execution_count": 81,
   "metadata": {},
   "outputs": [
    {
     "data": {
      "text/plain": [
       "[(a,b): 2.000000,\n",
       " (b,d): 4.000000,\n",
       " (a,d): 5.000000,\n",
       " (c,d): 6.000000,\n",
       " (b,c): 7.000000,\n",
       " (a,c): 8.000000]"
      ]
     },
     "execution_count": 81,
     "metadata": {},
     "output_type": "execute_result"
    }
   ],
   "source": [
    "m.edgeList"
   ]
  },
  {
   "cell_type": "code",
   "execution_count": 99,
   "metadata": {},
   "outputs": [],
   "source": [
    "(m.adjList[3]).prev"
   ]
  },
  {
   "cell_type": "code",
   "execution_count": 89,
   "metadata": {},
   "outputs": [
    {
     "data": {
      "text/plain": [
       "False"
      ]
     },
     "execution_count": 89,
     "metadata": {},
     "output_type": "execute_result"
    }
   ],
   "source": [
    "(m.adjList[0]).visited"
   ]
  },
  {
   "cell_type": "code",
   "execution_count": 190,
   "metadata": {},
   "outputs": [
    {
     "data": {
      "text/plain": [
       "'Passed 9/9 MST Tests and 9/9 TSP Tests for Kruskal.'"
      ]
     },
     "execution_count": 190,
     "metadata": {},
     "output_type": "execute_result"
    }
   ],
   "source": [
    "testMaps('Kruskal')"
   ]
  },
  {
   "cell_type": "code",
   "execution_count": 191,
   "metadata": {},
   "outputs": [
    {
     "data": {
      "text/plain": [
       "[(a,b): 2.000000,\n",
       " (b,d): 4.000000,\n",
       " (a,d): 5.000000,\n",
       " (c,d): 6.000000,\n",
       " (b,c): 7.000000,\n",
       " (a,c): 8.000000]"
      ]
     },
     "execution_count": 191,
     "metadata": {},
     "output_type": "execute_result"
    }
   ],
   "source": [
    "edgeList"
   ]
  },
  {
   "cell_type": "code",
   "execution_count": 193,
   "metadata": {},
   "outputs": [
    {
     "data": {
      "text/plain": [
       "[(a,b): 2.000000,\n",
       " (b,d): 4.000000,\n",
       " (a,d): 5.000000,\n",
       " (c,d): 6.000000,\n",
       " (b,c): 7.000000,\n",
       " (a,c): 8.000000]"
      ]
     },
     "execution_count": 193,
     "metadata": {},
     "output_type": "execute_result"
    }
   ],
   "source": [
    "edgeList"
   ]
  },
  {
   "cell_type": "code",
   "execution_count": 213,
   "metadata": {},
   "outputs": [
    {
     "data": {
      "text/plain": [
       "2"
      ]
     },
     "execution_count": 213,
     "metadata": {},
     "output_type": "execute_result"
    }
   ],
   "source": [
    "(kruskal(adjList, edgeList)[0]).weight"
   ]
  },
  {
   "cell_type": "code",
   "execution_count": 201,
   "metadata": {},
   "outputs": [
    {
     "data": {
      "text/plain": [
       "__main__.Edge"
      ]
     },
     "execution_count": 201,
     "metadata": {},
     "output_type": "execute_result"
    }
   ],
   "source": [
    "type(edgeList[0])"
   ]
  },
  {
   "cell_type": "code",
   "execution_count": null,
   "metadata": {},
   "outputs": [],
   "source": []
  }
 ],
 "metadata": {
  "kernelspec": {
   "display_name": "IPython (Python 3)",
   "language": "python",
   "name": "python3"
  },
  "language_info": {
   "codemirror_mode": {
    "name": "ipython",
    "version": 3
   },
   "file_extension": ".py",
   "mimetype": "text/x-python",
   "name": "python",
   "nbconvert_exporter": "python",
   "pygments_lexer": "ipython3",
   "version": "3.7.0"
  }
 },
 "nbformat": 4,
 "nbformat_minor": 2
}
