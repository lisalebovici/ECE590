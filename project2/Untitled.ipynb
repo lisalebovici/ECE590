{
 "cells": [
  {
   "cell_type": "code",
   "execution_count": 16,
   "metadata": {
    "collapsed": true
   },
   "outputs": [],
   "source": [
    "\"\"\"\n",
    "Queue Class\n",
    "\"\"\"\n",
    "class Queue:\n",
    "\n",
    "    \"\"\"\n",
    "    Class attributes:\n",
    "    queue    # The array for the queue.\n",
    "    front    # The index of the front of the queue.\n",
    "    rear     # The index ONE PAST the rear of the queue.\n",
    "    numElems # The number of elements in the queue.\n",
    "    \"\"\"\n",
    "\n",
    "    \"\"\"\n",
    "    __init__ function to initialize the Queue.\n",
    "    Note: intially the size of the queue defaults to 100.\n",
    "    Note: the queue is initally filled with None values.\n",
    "    \"\"\"\n",
    "    def __init__(self, size=100):\n",
    "        self.queue = [None for x in range(0,size)]\n",
    "        self.front = 0\n",
    "        self.rear = -1\n",
    "        self.numElems = 0\n",
    "        return\n",
    "\n",
    "    \"\"\"\n",
    "    __repr__ function to print the stack.\n",
    "    \"\"\"\n",
    "    def __repr__(self):\n",
    "        print(self.queue)\n",
    "        print('Front: %d' % self.front)\n",
    "        print('Rear: %d' % self.rear)\n",
    "        return ('numElems: %d' % self.numElems)\n",
    "\n",
    "    \"\"\"\n",
    "    isFull function to check if the queue is full.\n",
    "    \"\"\"\n",
    "    def isFull(self):\n",
    "        if self.numElems == len(self.queue):\n",
    "            return True\n",
    "        else:\n",
    "            return False\n",
    "\n",
    "    \"\"\"\n",
    "    isEmpty function to check if the queue is empty.\n",
    "    \"\"\"\n",
    "    def isEmpty(self):\n",
    "        if self.numElems == 0:\n",
    "            return True\n",
    "        else:\n",
    "            return False\n",
    "\n",
    "    \"\"\"\n",
    "    resize function to resize the queue by doubling its size.\n",
    "    Note: we also reset the front to index 0.\n",
    "    \"\"\"\n",
    "    def resize(self):\n",
    "        # If the queue is wrapped, reset order of elems.\n",
    "        if not (self.rear > self.front):\n",
    "            print(self.queue[self.front:])\n",
    "            print(self.queue[0:self.rear])\n",
    "            self.queue = self.queue[self.front:] + self.queue[0:(self.rear+1)]\n",
    "\n",
    "        # Update front and rear.\n",
    "        self.front = 0\n",
    "        self.rear = self.numElems - 1\n",
    "\n",
    "        # Now append the extra space (double size).\n",
    "        self.queue = self.queue + [None for x in self.queue]\n",
    "        print(self.queue)\n",
    "        return\n",
    "\n",
    "    \"\"\"\n",
    "    push function to push a value into the rear of the queue.\n",
    "    \"\"\"\n",
    "    def push(self, val):\n",
    "        \n",
    "        if self.isFull():\n",
    "            self.resize()\n",
    "        \n",
    "        #print(\"push \"); print(val);\n",
    "        self.rear = (self.rear + 1) % len(self.queue)\n",
    "        self.numElems += 1\n",
    "        self.queue[self.rear] = val\n",
    "        print(self.queue)#; print(self.front); print(self.rear)\n",
    "        \n",
    "        return\n",
    "\n",
    "    \"\"\"\n",
    "    pop function to pop the value from the front of the queue.\n",
    "    \"\"\"\n",
    "    def pop(self):\n",
    "        ##### IMPLEMENT! #####\n",
    "        \n",
    "        if not self.isEmpty():\n",
    "            val = self.queue[self.front]\n",
    "            self.queue[self.front] = None\n",
    "            self.front = (self.front + 1) % len(self.queue)\n",
    "            self.numElems -= 1\n",
    "            \n",
    "            #print(\"pop \"); print(val)\n",
    "            print(self.queue); #print(self.front); print(self.rear)\n",
    "            return val\n",
    "        \n",
    "        return None"
   ]
  },
  {
   "cell_type": "code",
   "execution_count": 6,
   "metadata": {
    "collapsed": true
   },
   "outputs": [],
   "source": [
    "q = Queue(size = 3)"
   ]
  },
  {
   "cell_type": "code",
   "execution_count": 7,
   "metadata": {},
   "outputs": [
    {
     "name": "stdout",
     "output_type": "stream",
     "text": [
      "[1, None, None]\n",
      "[1, 2, None]\n",
      "[1, 2, 3]\n",
      "[1, 2, 3, 4, None, None]\n"
     ]
    }
   ],
   "source": [
    "q.push(1); q.push(2); q.push(3); q.push(4)"
   ]
  },
  {
   "cell_type": "code",
   "execution_count": 17,
   "metadata": {},
   "outputs": [
    {
     "name": "stdout",
     "output_type": "stream",
     "text": [
      "[1, None, None]\n",
      "[1, 2, None]\n",
      "[None, 2, None]\n",
      "[None, 2, 3]\n",
      "[4, 2, 3]\n",
      "[2, 3]\n",
      "[]\n",
      "[2, 3, 4, None, None, None]\n",
      "[2, 3, 4, 5, None, None]\n"
     ]
    }
   ],
   "source": [
    "q = Queue(size = 3)\n",
    "q.push(1); q.push(2); q.pop(); q.push(3); q.push(4); q.push(5)"
   ]
  },
  {
   "cell_type": "code",
   "execution_count": null,
   "metadata": {
    "collapsed": true
   },
   "outputs": [],
   "source": []
  }
 ],
 "metadata": {
  "kernelspec": {
   "display_name": "Python 3",
   "language": "python",
   "name": "python3"
  },
  "language_info": {
   "codemirror_mode": {
    "name": "ipython",
    "version": 3
   },
   "file_extension": ".py",
   "mimetype": "text/x-python",
   "name": "python",
   "nbconvert_exporter": "python",
   "pygments_lexer": "ipython3",
   "version": "3.6.1"
  }
 },
 "nbformat": 4,
 "nbformat_minor": 2
}
